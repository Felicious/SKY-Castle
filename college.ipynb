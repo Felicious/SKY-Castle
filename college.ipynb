{
  "nbformat": 4,
  "nbformat_minor": 0,
  "metadata": {
    "colab": {
      "name": "college.ipynb",
      "version": "0.3.2",
      "provenance": [],
      "collapsed_sections": [],
      "toc_visible": true,
      "include_colab_link": true
    },
    "kernelspec": {
      "name": "python3",
      "display_name": "Python 3"
    }
  },
  "cells": [
    {
      "cell_type": "markdown",
      "metadata": {
        "id": "view-in-github",
        "colab_type": "text"
      },
      "source": [
        "<a href=\"https://colab.research.google.com/github/Felicious/SKY-Castle/blob/master/college.ipynb\" target=\"_parent\"><img src=\"https://colab.research.google.com/assets/colab-badge.svg\" alt=\"Open In Colab\"/></a>"
      ]
    },
    {
      "cell_type": "code",
      "metadata": {
        "id": "4zIR2YUYOXxT",
        "colab_type": "code",
        "colab": {}
      },
      "source": [
        "import numpy as np\n",
        "import pandas as pd\n",
        "import matplotlib.pyplot as plt\n",
        "import seaborn as sns\n",
        "from sklearn.linear_model import LogisticRegression\n",
        "from sklearn.linear_model import LinearRegression\n",
        "from sklearn.linear_model import LassoLars\n",
        "from sklearn import preprocessing as pre\n",
        "from sklearn.metrics import mean_squared_error\n",
        "from sklearn.neighbors import KNeighborsRegressor"
      ],
      "execution_count": 0,
      "outputs": []
    },
    {
      "cell_type": "markdown",
      "metadata": {
        "id": "4GmaIPuzvy2c",
        "colab_type": "text"
      },
      "source": [
        "# Import Data"
      ]
    },
    {
      "cell_type": "code",
      "metadata": {
        "id": "-Yw_8yeWO1vO",
        "colab_type": "code",
        "colab": {}
      },
      "source": [
        "data = pd.read_csv(\"https://raw.githubusercontent.com/Felicious/SKY-Castle/master/college_data_file.csv\")\n"
      ],
      "execution_count": 0,
      "outputs": []
    },
    {
      "cell_type": "markdown",
      "metadata": {
        "id": "OD81P71rv7A-",
        "colab_type": "text"
      },
      "source": [
        "# Data Preprocessing"
      ]
    },
    {
      "cell_type": "code",
      "metadata": {
        "id": "MXY7F-FzO3Gy",
        "colab_type": "code",
        "outputId": "01bd563a-4bc5-4fb7-bb18-6364cac06220",
        "colab": {
          "base_uri": "https://localhost:8080/",
          "height": 2482
        }
      },
      "source": [
        "x = 0\n",
        "for col in list(data.columns.values):\n",
        "  print(x, col)\n",
        "  x += 1"
      ],
      "execution_count": 0,
      "outputs": [
        {
          "output_type": "stream",
          "text": [
            "0 ID number\n",
            "1 Name\n",
            "2 year\n",
            "3 ZIP code\n",
            "4 Highest degree offered\n",
            "5 County name\n",
            "6 Longitude location of institution\n",
            "7 Latitude location of institution\n",
            "8 Religious affiliation\n",
            "9 Offers Less than one year certificate\n",
            "10 Offers One but less than two years certificate\n",
            "11 Offers Associate's degree\n",
            "12 Offers Two but less than 4 years certificate\n",
            "13 Offers Bachelor's degree\n",
            "14 Offers Postbaccalaureate certificate\n",
            "15 Offers Master's degree\n",
            "16 Offers Post-master's certificate\n",
            "17 Offers Doctor's degree - research/scholarship\n",
            "18 Offers Doctor's degree - professional practice\n",
            "19 Offers Doctor's degree - other\n",
            "20 Offers Other degree\n",
            "21 Applicants total\n",
            "22 Admissions total\n",
            "23 Enrolled total\n",
            "24 Percent of freshmen submitting SAT scores\n",
            "25 Percent of freshmen submitting ACT scores\n",
            "26 SAT Critical Reading 25th percentile score\n",
            "27 SAT Critical Reading 75th percentile score\n",
            "28 SAT Math 25th percentile score\n",
            "29 SAT Math 75th percentile score\n",
            "30 SAT Writing 25th percentile score\n",
            "31 SAT Writing 75th percentile score\n",
            "32 ACT Composite 25th percentile score\n",
            "33 ACT Composite 75th percentile score\n",
            "34 Estimated enrollment, total\n",
            "35 Estimated enrollment, full time\n",
            "36 Estimated enrollment, part time\n",
            "37 Estimated undergraduate enrollment, total\n",
            "38 Estimated undergraduate enrollment, full time\n",
            "39 Estimated undergraduate enrollment, part time\n",
            "40 Estimated freshman undergraduate enrollment, total\n",
            "41 Estimated freshman enrollment, full time\n",
            "42 Estimated freshman enrollment, part time\n",
            "43 Estimated graduate enrollment, total\n",
            "44 Estimated graduate enrollment, full time\n",
            "45 Estimated graduate enrollment, part time\n",
            "46 Associate's degrees awarded\n",
            "47 Bachelor's degrees awarded\n",
            "48 Master's degrees awarded\n",
            "49 Doctor's degrese - research/scholarship awarded\n",
            "50 Doctor's degrees - professional practice awarded\n",
            "51 Doctor's degrees - other awarded\n",
            "52 Certificates of less than 1-year awarded\n",
            "53 Certificates of 1 but less than 2-years awarded\n",
            "54 Certificates of 2 but less than 4-years awarded\n",
            "55 Postbaccalaureate certificates awarded\n",
            "56 Post-master's certificates awarded\n",
            "57 Number of students receiving an Associate's degree\n",
            "58 Number of students receiving a Bachelor's degree\n",
            "59 Number of students receiving a Master's degree\n",
            "60 Number of students receiving a Doctor's degree\n",
            "61 Number of students receiving a certificate of less than 1-year\n",
            "62 Number of students receiving a certificate of 1 but less than 4-years\n",
            "63 Number of students receiving a Postbaccalaureate or Post-master's certificate\n",
            "64 Percent admitted - total\n",
            "65 Admissions yield - total\n",
            "66 Tuition and fees, 2010-11\n",
            "67 Tuition and fees, 2011-12\n",
            "68 Tuition and fees, 2012-13\n",
            "69 Tuition and fees, 2013-14\n",
            "70 Total price for in-state students living on campus 2013-14\n",
            "71 Total price for out-of-state students living on campus 2013-14\n",
            "72 State abbreviation\n",
            "73 FIPS state code\n",
            "74 Geographic region\n",
            "75 Sector of institution\n",
            "76 Level of institution\n",
            "77 Control of institution\n",
            "78 Historically Black College or University\n",
            "79 Tribal college\n",
            "80 Degree of urbanization (Urban-centric locale)\n",
            "81 Carnegie Classification 2010: Basic\n",
            "82 Total  enrollment\n",
            "83 Full-time enrollment\n",
            "84 Part-time enrollment\n",
            "85 Undergraduate enrollment\n",
            "86 Graduate enrollment\n",
            "87 Full-time undergraduate enrollment\n",
            "88 Part-time undergraduate enrollment\n",
            "89 Percent of total enrollment that are American Indian or Alaska Native\n",
            "90 Percent of total enrollment that are Asian\n",
            "91 Percent of total enrollment that are Black or African American\n",
            "92 Percent of total enrollment that are Hispanic/Latino\n",
            "93 Percent of total enrollment that are Native Hawaiian or Other Pacific Islander\n",
            "94 Percent of total enrollment that are White\n",
            "95 Percent of total enrollment that are two or more races\n",
            "96 Percent of total enrollment that are Race/ethnicity unknown\n",
            "97 Percent of total enrollment that are Nonresident Alien\n",
            "98 Percent of total enrollment that are Asian/Native Hawaiian/Pacific Islander\n",
            "99 Percent of total enrollment that are women\n",
            "100 Percent of undergraduate enrollment that are American Indian or Alaska Native\n",
            "101 Percent of undergraduate enrollment that are Asian\n",
            "102 Percent of undergraduate enrollment that are Black or African American\n",
            "103 Percent of undergraduate enrollment that are Hispanic/Latino\n",
            "104 Percent of undergraduate enrollment that are Native Hawaiian or Other Pacific Islander\n",
            "105 Percent of undergraduate enrollment that are White\n",
            "106 Percent of undergraduate enrollment that are two or more races\n",
            "107 Percent of undergraduate enrollment that are Race/ethnicity unknown\n",
            "108 Percent of undergraduate enrollment that are Nonresident Alien\n",
            "109 Percent of undergraduate enrollment that are Asian/Native Hawaiian/Pacific Islander\n",
            "110 Percent of undergraduate enrollment that are women\n",
            "111 Percent of graduate enrollment that are American Indian or Alaska Native\n",
            "112 Percent of graduate enrollment that are Asian\n",
            "113 Percent of graduate enrollment that are Black or African American\n",
            "114 Percent of graduate enrollment that are Hispanic/Latino\n",
            "115 Percent of graduate enrollment that are Native Hawaiian or Other Pacific Islander\n",
            "116 Percent of graduate enrollment that are White\n",
            "117 Percent of graduate enrollment that are two or more races\n",
            "118 Percent of graduate enrollment that are Race/ethnicity unknown\n",
            "119 Percent of graduate enrollment that are Nonresident Alien\n",
            "120 Percent of graduate enrollment that are Asian/Native Hawaiian/Pacific Islander\n",
            "121 Percent of graduate enrollment that are women\n",
            "122 Number of first-time undergraduates - in-state\n",
            "123 Percent of first-time undergraduates - in-state\n",
            "124 Number of first-time undergraduates - out-of-state\n",
            "125 Percent of first-time undergraduates - out-of-state\n",
            "126 Number of first-time undergraduates - foreign countries\n",
            "127 Percent of first-time undergraduates - foreign countries\n",
            "128 Number of first-time undergraduates - residence unknown\n",
            "129 Percent of first-time undergraduates - residence unknown\n",
            "130 Graduation rate - Bachelor degree within 4 years, total\n",
            "131 Graduation rate - Bachelor degree within 5 years, total\n",
            "132 Graduation rate - Bachelor degree within 6 years, total\n",
            "133 Percent of freshmen receiving any financial aid\n",
            "134 Percent of freshmen receiving federal, state, local or institutional grant aid\n",
            "135 Percent of freshmen  receiving federal grant aid\n",
            "136 Percent of freshmen receiving Pell grants\n",
            "137 Percent of freshmen receiving other federal grant aid\n",
            "138 Percent of freshmen receiving state/local grant aid\n",
            "139 Percent of freshmen receiving institutional grant aid\n",
            "140 Percent of freshmen receiving student loan aid\n",
            "141 Percent of freshmen receiving federal student loans\n",
            "142 Percent of freshmen receiving other loan aid\n",
            "143 Endowment assets (year end) per FTE enrollment (GASB)\n",
            "144 Endowment assets (year end) per FTE enrollment (FASB)\n"
          ],
          "name": "stdout"
        }
      ]
    },
    {
      "cell_type": "code",
      "metadata": {
        "id": "k5gMudOj4M3h",
        "colab_type": "code",
        "outputId": "582701c6-5209-40c8-faf1-60e7f04052a2",
        "colab": {
          "base_uri": "https://localhost:8080/",
          "height": 593
        }
      },
      "source": [
        "ogdrop = [\"year\",\n",
        "          \"Percent of total enrollment that are American Indian or Alaska Native\",\n",
        "          \"Percent of total enrollment that are Asian/Native Hawaiian/Pacific Islander\",\n",
        "          \"Percent of total enrollment that are Asian\",\n",
        "          \"Percent of total enrollment that are Black or African American\",\n",
        "          \"Percent of total enrollment that are Hispanic/Latino\",\n",
        "          \"Percent of total enrollment that are Native Hawaiian or Other Pacific Islander\",\n",
        "          \"Percent of total enrollment that are White\",\n",
        "          \"Percent of total enrollment that are two or more races\",\n",
        "          \"Percent of total enrollment that are Race/ethnicity unknown\",\n",
        "          \"Percent of total enrollment that are Nonresident Alien\",\n",
        "          \"Percent of total enrollment that are women\", \n",
        "          \"Number of first-time undergraduates - in-state\",\n",
        "          \"Number of first-time undergraduates - out-of-state\",\n",
        "          \"Number of first-time undergraduates - foreign countries\",\n",
        "          \"Number of first-time undergraduates - residence unknown\"\n",
        "         ]\n",
        "\n",
        "reduced = data.drop(ogdrop, axis = 1)\n",
        "reduced.head()"
      ],
      "execution_count": 0,
      "outputs": [
        {
          "output_type": "execute_result",
          "data": {
            "text/html": [
              "<div>\n",
              "<style scoped>\n",
              "    .dataframe tbody tr th:only-of-type {\n",
              "        vertical-align: middle;\n",
              "    }\n",
              "\n",
              "    .dataframe tbody tr th {\n",
              "        vertical-align: top;\n",
              "    }\n",
              "\n",
              "    .dataframe thead th {\n",
              "        text-align: right;\n",
              "    }\n",
              "</style>\n",
              "<table border=\"1\" class=\"dataframe\">\n",
              "  <thead>\n",
              "    <tr style=\"text-align: right;\">\n",
              "      <th></th>\n",
              "      <th>ID number</th>\n",
              "      <th>Name</th>\n",
              "      <th>ZIP code</th>\n",
              "      <th>Highest degree offered</th>\n",
              "      <th>County name</th>\n",
              "      <th>Longitude location of institution</th>\n",
              "      <th>Latitude location of institution</th>\n",
              "      <th>Religious affiliation</th>\n",
              "      <th>Offers Less than one year certificate</th>\n",
              "      <th>Offers One but less than two years certificate</th>\n",
              "      <th>Offers Associate's degree</th>\n",
              "      <th>Offers Two but less than 4 years certificate</th>\n",
              "      <th>Offers Bachelor's degree</th>\n",
              "      <th>Offers Postbaccalaureate certificate</th>\n",
              "      <th>Offers Master's degree</th>\n",
              "      <th>Offers Post-master's certificate</th>\n",
              "      <th>Offers Doctor's degree - research/scholarship</th>\n",
              "      <th>Offers Doctor's degree - professional practice</th>\n",
              "      <th>Offers Doctor's degree - other</th>\n",
              "      <th>Offers Other degree</th>\n",
              "      <th>Applicants total</th>\n",
              "      <th>Admissions total</th>\n",
              "      <th>Enrolled total</th>\n",
              "      <th>Percent of freshmen submitting SAT scores</th>\n",
              "      <th>Percent of freshmen submitting ACT scores</th>\n",
              "      <th>SAT Critical Reading 25th percentile score</th>\n",
              "      <th>SAT Critical Reading 75th percentile score</th>\n",
              "      <th>SAT Math 25th percentile score</th>\n",
              "      <th>SAT Math 75th percentile score</th>\n",
              "      <th>SAT Writing 25th percentile score</th>\n",
              "      <th>SAT Writing 75th percentile score</th>\n",
              "      <th>ACT Composite 25th percentile score</th>\n",
              "      <th>ACT Composite 75th percentile score</th>\n",
              "      <th>Estimated enrollment, total</th>\n",
              "      <th>Estimated enrollment, full time</th>\n",
              "      <th>Estimated enrollment, part time</th>\n",
              "      <th>Estimated undergraduate enrollment, total</th>\n",
              "      <th>Estimated undergraduate enrollment, full time</th>\n",
              "      <th>Estimated undergraduate enrollment, part time</th>\n",
              "      <th>Estimated freshman undergraduate enrollment, total</th>\n",
              "      <th>...</th>\n",
              "      <th>Percent of undergraduate enrollment that are Asian</th>\n",
              "      <th>Percent of undergraduate enrollment that are Black or African American</th>\n",
              "      <th>Percent of undergraduate enrollment that are Hispanic/Latino</th>\n",
              "      <th>Percent of undergraduate enrollment that are Native Hawaiian or Other Pacific Islander</th>\n",
              "      <th>Percent of undergraduate enrollment that are White</th>\n",
              "      <th>Percent of undergraduate enrollment that are two or more races</th>\n",
              "      <th>Percent of undergraduate enrollment that are Race/ethnicity unknown</th>\n",
              "      <th>Percent of undergraduate enrollment that are Nonresident Alien</th>\n",
              "      <th>Percent of undergraduate enrollment that are Asian/Native Hawaiian/Pacific Islander</th>\n",
              "      <th>Percent of undergraduate enrollment that are women</th>\n",
              "      <th>Percent of graduate enrollment that are American Indian or Alaska Native</th>\n",
              "      <th>Percent of graduate enrollment that are Asian</th>\n",
              "      <th>Percent of graduate enrollment that are Black or African American</th>\n",
              "      <th>Percent of graduate enrollment that are Hispanic/Latino</th>\n",
              "      <th>Percent of graduate enrollment that are Native Hawaiian or Other Pacific Islander</th>\n",
              "      <th>Percent of graduate enrollment that are White</th>\n",
              "      <th>Percent of graduate enrollment that are two or more races</th>\n",
              "      <th>Percent of graduate enrollment that are Race/ethnicity unknown</th>\n",
              "      <th>Percent of graduate enrollment that are Nonresident Alien</th>\n",
              "      <th>Percent of graduate enrollment that are Asian/Native Hawaiian/Pacific Islander</th>\n",
              "      <th>Percent of graduate enrollment that are women</th>\n",
              "      <th>Percent of first-time undergraduates - in-state</th>\n",
              "      <th>Percent of first-time undergraduates - out-of-state</th>\n",
              "      <th>Percent of first-time undergraduates - foreign countries</th>\n",
              "      <th>Percent of first-time undergraduates - residence unknown</th>\n",
              "      <th>Graduation rate - Bachelor degree within 4 years, total</th>\n",
              "      <th>Graduation rate - Bachelor degree within 5 years, total</th>\n",
              "      <th>Graduation rate - Bachelor degree within 6 years, total</th>\n",
              "      <th>Percent of freshmen receiving any financial aid</th>\n",
              "      <th>Percent of freshmen receiving federal, state, local or institutional grant aid</th>\n",
              "      <th>Percent of freshmen  receiving federal grant aid</th>\n",
              "      <th>Percent of freshmen receiving Pell grants</th>\n",
              "      <th>Percent of freshmen receiving other federal grant aid</th>\n",
              "      <th>Percent of freshmen receiving state/local grant aid</th>\n",
              "      <th>Percent of freshmen receiving institutional grant aid</th>\n",
              "      <th>Percent of freshmen receiving student loan aid</th>\n",
              "      <th>Percent of freshmen receiving federal student loans</th>\n",
              "      <th>Percent of freshmen receiving other loan aid</th>\n",
              "      <th>Endowment assets (year end) per FTE enrollment (GASB)</th>\n",
              "      <th>Endowment assets (year end) per FTE enrollment (FASB)</th>\n",
              "    </tr>\n",
              "  </thead>\n",
              "  <tbody>\n",
              "    <tr>\n",
              "      <th>0</th>\n",
              "      <td>100654</td>\n",
              "      <td>Alabama A &amp; M University</td>\n",
              "      <td>35762</td>\n",
              "      <td>Doctor's degree - research/scholarship</td>\n",
              "      <td>Madison County</td>\n",
              "      <td>-86.568502</td>\n",
              "      <td>34.783368</td>\n",
              "      <td>Not applicable</td>\n",
              "      <td>Implied no</td>\n",
              "      <td>Implied no</td>\n",
              "      <td>Implied no</td>\n",
              "      <td>Implied no</td>\n",
              "      <td>Yes</td>\n",
              "      <td>Implied no</td>\n",
              "      <td>Yes</td>\n",
              "      <td>Implied no</td>\n",
              "      <td>Yes</td>\n",
              "      <td>Implied no</td>\n",
              "      <td>Implied no</td>\n",
              "      <td>Implied no</td>\n",
              "      <td>6142.0</td>\n",
              "      <td>5521.0</td>\n",
              "      <td>1104.0</td>\n",
              "      <td>15.0</td>\n",
              "      <td>88.0</td>\n",
              "      <td>370.0</td>\n",
              "      <td>450.0</td>\n",
              "      <td>350.0</td>\n",
              "      <td>450.0</td>\n",
              "      <td>NaN</td>\n",
              "      <td>NaN</td>\n",
              "      <td>15.0</td>\n",
              "      <td>19.0</td>\n",
              "      <td>5024.0</td>\n",
              "      <td>4442.0</td>\n",
              "      <td>582.0</td>\n",
              "      <td>4055.0</td>\n",
              "      <td>3802.0</td>\n",
              "      <td>253.0</td>\n",
              "      <td>1104.0</td>\n",
              "      <td>...</td>\n",
              "      <td>0.0</td>\n",
              "      <td>95.0</td>\n",
              "      <td>1.0</td>\n",
              "      <td>0.0</td>\n",
              "      <td>3.0</td>\n",
              "      <td>0.0</td>\n",
              "      <td>1.0</td>\n",
              "      <td>0.0</td>\n",
              "      <td>0.0</td>\n",
              "      <td>51.0</td>\n",
              "      <td>0.0</td>\n",
              "      <td>2.0</td>\n",
              "      <td>81.0</td>\n",
              "      <td>1.0</td>\n",
              "      <td>0.0</td>\n",
              "      <td>15.0</td>\n",
              "      <td>0.0</td>\n",
              "      <td>1.0</td>\n",
              "      <td>0.0</td>\n",
              "      <td>2.0</td>\n",
              "      <td>69.0</td>\n",
              "      <td>NaN</td>\n",
              "      <td>NaN</td>\n",
              "      <td>NaN</td>\n",
              "      <td>NaN</td>\n",
              "      <td>10.0</td>\n",
              "      <td>23.0</td>\n",
              "      <td>29.0</td>\n",
              "      <td>97.0</td>\n",
              "      <td>89.0</td>\n",
              "      <td>81.0</td>\n",
              "      <td>81.0</td>\n",
              "      <td>7.0</td>\n",
              "      <td>1.0</td>\n",
              "      <td>32.0</td>\n",
              "      <td>89.0</td>\n",
              "      <td>89.0</td>\n",
              "      <td>1.0</td>\n",
              "      <td>NaN</td>\n",
              "      <td>NaN</td>\n",
              "    </tr>\n",
              "    <tr>\n",
              "      <th>1</th>\n",
              "      <td>100663</td>\n",
              "      <td>University of Alabama at Birmingham</td>\n",
              "      <td>35294-0110</td>\n",
              "      <td>Doctor's degree - research/scholarship and pro...</td>\n",
              "      <td>Jefferson County</td>\n",
              "      <td>-86.809170</td>\n",
              "      <td>33.502230</td>\n",
              "      <td>Not applicable</td>\n",
              "      <td>Implied no</td>\n",
              "      <td>Yes</td>\n",
              "      <td>Implied no</td>\n",
              "      <td>Yes</td>\n",
              "      <td>Yes</td>\n",
              "      <td>Yes</td>\n",
              "      <td>Yes</td>\n",
              "      <td>Yes</td>\n",
              "      <td>Yes</td>\n",
              "      <td>Yes</td>\n",
              "      <td>Yes</td>\n",
              "      <td>Implied no</td>\n",
              "      <td>5689.0</td>\n",
              "      <td>4934.0</td>\n",
              "      <td>1773.0</td>\n",
              "      <td>6.0</td>\n",
              "      <td>93.0</td>\n",
              "      <td>520.0</td>\n",
              "      <td>640.0</td>\n",
              "      <td>520.0</td>\n",
              "      <td>650.0</td>\n",
              "      <td>NaN</td>\n",
              "      <td>NaN</td>\n",
              "      <td>22.0</td>\n",
              "      <td>28.0</td>\n",
              "      <td>18568.0</td>\n",
              "      <td>11961.0</td>\n",
              "      <td>6607.0</td>\n",
              "      <td>11502.0</td>\n",
              "      <td>8357.0</td>\n",
              "      <td>3145.0</td>\n",
              "      <td>1773.0</td>\n",
              "      <td>...</td>\n",
              "      <td>5.0</td>\n",
              "      <td>26.0</td>\n",
              "      <td>3.0</td>\n",
              "      <td>0.0</td>\n",
              "      <td>60.0</td>\n",
              "      <td>3.0</td>\n",
              "      <td>1.0</td>\n",
              "      <td>2.0</td>\n",
              "      <td>5.0</td>\n",
              "      <td>58.0</td>\n",
              "      <td>0.0</td>\n",
              "      <td>4.0</td>\n",
              "      <td>14.0</td>\n",
              "      <td>3.0</td>\n",
              "      <td>0.0</td>\n",
              "      <td>70.0</td>\n",
              "      <td>2.0</td>\n",
              "      <td>1.0</td>\n",
              "      <td>6.0</td>\n",
              "      <td>4.0</td>\n",
              "      <td>64.0</td>\n",
              "      <td>86.0</td>\n",
              "      <td>13.0</td>\n",
              "      <td>1.0</td>\n",
              "      <td>0.0</td>\n",
              "      <td>29.0</td>\n",
              "      <td>46.0</td>\n",
              "      <td>53.0</td>\n",
              "      <td>90.0</td>\n",
              "      <td>79.0</td>\n",
              "      <td>36.0</td>\n",
              "      <td>36.0</td>\n",
              "      <td>10.0</td>\n",
              "      <td>0.0</td>\n",
              "      <td>60.0</td>\n",
              "      <td>56.0</td>\n",
              "      <td>55.0</td>\n",
              "      <td>5.0</td>\n",
              "      <td>24136.0</td>\n",
              "      <td>NaN</td>\n",
              "    </tr>\n",
              "    <tr>\n",
              "      <th>2</th>\n",
              "      <td>100690</td>\n",
              "      <td>Amridge University</td>\n",
              "      <td>36117-3553</td>\n",
              "      <td>Doctor's degree - research/scholarship and pro...</td>\n",
              "      <td>Montgomery County</td>\n",
              "      <td>-86.174010</td>\n",
              "      <td>32.362609</td>\n",
              "      <td>Churches of Christ</td>\n",
              "      <td>Implied no</td>\n",
              "      <td>Implied no</td>\n",
              "      <td>Yes</td>\n",
              "      <td>Implied no</td>\n",
              "      <td>Yes</td>\n",
              "      <td>Implied no</td>\n",
              "      <td>Yes</td>\n",
              "      <td>Implied no</td>\n",
              "      <td>Yes</td>\n",
              "      <td>Yes</td>\n",
              "      <td>Implied no</td>\n",
              "      <td>Implied no</td>\n",
              "      <td>NaN</td>\n",
              "      <td>NaN</td>\n",
              "      <td>NaN</td>\n",
              "      <td>NaN</td>\n",
              "      <td>NaN</td>\n",
              "      <td>NaN</td>\n",
              "      <td>NaN</td>\n",
              "      <td>NaN</td>\n",
              "      <td>NaN</td>\n",
              "      <td>NaN</td>\n",
              "      <td>NaN</td>\n",
              "      <td>NaN</td>\n",
              "      <td>NaN</td>\n",
              "      <td>626.0</td>\n",
              "      <td>326.0</td>\n",
              "      <td>300.0</td>\n",
              "      <td>313.0</td>\n",
              "      <td>202.0</td>\n",
              "      <td>111.0</td>\n",
              "      <td>6.0</td>\n",
              "      <td>...</td>\n",
              "      <td>0.0</td>\n",
              "      <td>42.0</td>\n",
              "      <td>1.0</td>\n",
              "      <td>0.0</td>\n",
              "      <td>29.0</td>\n",
              "      <td>0.0</td>\n",
              "      <td>27.0</td>\n",
              "      <td>0.0</td>\n",
              "      <td>1.0</td>\n",
              "      <td>61.0</td>\n",
              "      <td>0.0</td>\n",
              "      <td>0.0</td>\n",
              "      <td>37.0</td>\n",
              "      <td>1.0</td>\n",
              "      <td>0.0</td>\n",
              "      <td>32.0</td>\n",
              "      <td>0.0</td>\n",
              "      <td>29.0</td>\n",
              "      <td>0.0</td>\n",
              "      <td>0.0</td>\n",
              "      <td>55.0</td>\n",
              "      <td>NaN</td>\n",
              "      <td>NaN</td>\n",
              "      <td>NaN</td>\n",
              "      <td>NaN</td>\n",
              "      <td>0.0</td>\n",
              "      <td>0.0</td>\n",
              "      <td>67.0</td>\n",
              "      <td>100.0</td>\n",
              "      <td>90.0</td>\n",
              "      <td>90.0</td>\n",
              "      <td>90.0</td>\n",
              "      <td>0.0</td>\n",
              "      <td>40.0</td>\n",
              "      <td>90.0</td>\n",
              "      <td>100.0</td>\n",
              "      <td>100.0</td>\n",
              "      <td>0.0</td>\n",
              "      <td>NaN</td>\n",
              "      <td>302.0</td>\n",
              "    </tr>\n",
              "    <tr>\n",
              "      <th>3</th>\n",
              "      <td>100706</td>\n",
              "      <td>University of Alabama in Huntsville</td>\n",
              "      <td>35899</td>\n",
              "      <td>Doctor's degree - research/scholarship and pro...</td>\n",
              "      <td>Madison County</td>\n",
              "      <td>-86.638420</td>\n",
              "      <td>34.722818</td>\n",
              "      <td>Not applicable</td>\n",
              "      <td>Yes</td>\n",
              "      <td>Implied no</td>\n",
              "      <td>Implied no</td>\n",
              "      <td>Implied no</td>\n",
              "      <td>Yes</td>\n",
              "      <td>Yes</td>\n",
              "      <td>Yes</td>\n",
              "      <td>Yes</td>\n",
              "      <td>Yes</td>\n",
              "      <td>Yes</td>\n",
              "      <td>Implied no</td>\n",
              "      <td>Implied no</td>\n",
              "      <td>2054.0</td>\n",
              "      <td>1656.0</td>\n",
              "      <td>651.0</td>\n",
              "      <td>34.0</td>\n",
              "      <td>94.0</td>\n",
              "      <td>510.0</td>\n",
              "      <td>640.0</td>\n",
              "      <td>510.0</td>\n",
              "      <td>650.0</td>\n",
              "      <td>NaN</td>\n",
              "      <td>NaN</td>\n",
              "      <td>23.0</td>\n",
              "      <td>29.0</td>\n",
              "      <td>7376.0</td>\n",
              "      <td>4802.0</td>\n",
              "      <td>2574.0</td>\n",
              "      <td>5696.0</td>\n",
              "      <td>4237.0</td>\n",
              "      <td>1459.0</td>\n",
              "      <td>651.0</td>\n",
              "      <td>...</td>\n",
              "      <td>4.0</td>\n",
              "      <td>13.0</td>\n",
              "      <td>3.0</td>\n",
              "      <td>0.0</td>\n",
              "      <td>70.0</td>\n",
              "      <td>2.0</td>\n",
              "      <td>3.0</td>\n",
              "      <td>4.0</td>\n",
              "      <td>4.0</td>\n",
              "      <td>44.0</td>\n",
              "      <td>1.0</td>\n",
              "      <td>4.0</td>\n",
              "      <td>7.0</td>\n",
              "      <td>2.0</td>\n",
              "      <td>0.0</td>\n",
              "      <td>69.0</td>\n",
              "      <td>1.0</td>\n",
              "      <td>3.0</td>\n",
              "      <td>14.0</td>\n",
              "      <td>4.0</td>\n",
              "      <td>43.0</td>\n",
              "      <td>79.0</td>\n",
              "      <td>14.0</td>\n",
              "      <td>4.0</td>\n",
              "      <td>3.0</td>\n",
              "      <td>16.0</td>\n",
              "      <td>37.0</td>\n",
              "      <td>48.0</td>\n",
              "      <td>87.0</td>\n",
              "      <td>77.0</td>\n",
              "      <td>31.0</td>\n",
              "      <td>31.0</td>\n",
              "      <td>4.0</td>\n",
              "      <td>1.0</td>\n",
              "      <td>63.0</td>\n",
              "      <td>46.0</td>\n",
              "      <td>46.0</td>\n",
              "      <td>3.0</td>\n",
              "      <td>11502.0</td>\n",
              "      <td>NaN</td>\n",
              "    </tr>\n",
              "    <tr>\n",
              "      <th>4</th>\n",
              "      <td>100724</td>\n",
              "      <td>Alabama State University</td>\n",
              "      <td>36104-0271</td>\n",
              "      <td>Doctor's degree - research/scholarship and pro...</td>\n",
              "      <td>Montgomery County</td>\n",
              "      <td>-86.295677</td>\n",
              "      <td>32.364317</td>\n",
              "      <td>Not applicable</td>\n",
              "      <td>Implied no</td>\n",
              "      <td>Implied no</td>\n",
              "      <td>Implied no</td>\n",
              "      <td>Implied no</td>\n",
              "      <td>Yes</td>\n",
              "      <td>Implied no</td>\n",
              "      <td>Yes</td>\n",
              "      <td>Yes</td>\n",
              "      <td>Yes</td>\n",
              "      <td>Yes</td>\n",
              "      <td>Implied no</td>\n",
              "      <td>Implied no</td>\n",
              "      <td>10245.0</td>\n",
              "      <td>5251.0</td>\n",
              "      <td>1479.0</td>\n",
              "      <td>18.0</td>\n",
              "      <td>87.0</td>\n",
              "      <td>380.0</td>\n",
              "      <td>480.0</td>\n",
              "      <td>370.0</td>\n",
              "      <td>480.0</td>\n",
              "      <td>NaN</td>\n",
              "      <td>NaN</td>\n",
              "      <td>15.0</td>\n",
              "      <td>19.0</td>\n",
              "      <td>6076.0</td>\n",
              "      <td>5183.0</td>\n",
              "      <td>893.0</td>\n",
              "      <td>5357.0</td>\n",
              "      <td>4873.0</td>\n",
              "      <td>484.0</td>\n",
              "      <td>1542.0</td>\n",
              "      <td>...</td>\n",
              "      <td>0.0</td>\n",
              "      <td>93.0</td>\n",
              "      <td>1.0</td>\n",
              "      <td>0.0</td>\n",
              "      <td>2.0</td>\n",
              "      <td>1.0</td>\n",
              "      <td>1.0</td>\n",
              "      <td>2.0</td>\n",
              "      <td>0.0</td>\n",
              "      <td>59.0</td>\n",
              "      <td>1.0</td>\n",
              "      <td>1.0</td>\n",
              "      <td>77.0</td>\n",
              "      <td>1.0</td>\n",
              "      <td>0.0</td>\n",
              "      <td>17.0</td>\n",
              "      <td>1.0</td>\n",
              "      <td>1.0</td>\n",
              "      <td>1.0</td>\n",
              "      <td>1.0</td>\n",
              "      <td>71.0</td>\n",
              "      <td>58.0</td>\n",
              "      <td>37.0</td>\n",
              "      <td>4.0</td>\n",
              "      <td>0.0</td>\n",
              "      <td>9.0</td>\n",
              "      <td>19.0</td>\n",
              "      <td>25.0</td>\n",
              "      <td>93.0</td>\n",
              "      <td>87.0</td>\n",
              "      <td>76.0</td>\n",
              "      <td>76.0</td>\n",
              "      <td>13.0</td>\n",
              "      <td>11.0</td>\n",
              "      <td>34.0</td>\n",
              "      <td>81.0</td>\n",
              "      <td>81.0</td>\n",
              "      <td>0.0</td>\n",
              "      <td>13202.0</td>\n",
              "      <td>NaN</td>\n",
              "    </tr>\n",
              "  </tbody>\n",
              "</table>\n",
              "<p>5 rows × 129 columns</p>\n",
              "</div>"
            ],
            "text/plain": [
              "   ID number  ... Endowment assets (year end) per FTE enrollment (FASB)\n",
              "0     100654  ...                                                NaN   \n",
              "1     100663  ...                                                NaN   \n",
              "2     100690  ...                                              302.0   \n",
              "3     100706  ...                                                NaN   \n",
              "4     100724  ...                                                NaN   \n",
              "\n",
              "[5 rows x 129 columns]"
            ]
          },
          "metadata": {
            "tags": []
          },
          "execution_count": 4
        }
      ]
    },
    {
      "cell_type": "code",
      "metadata": {
        "id": "ag0G3tI1KT4s",
        "colab_type": "code",
        "colab": {}
      },
      "source": [
        "#this function gives a list of columns that can be removed from a dataframe due to high correlation\n",
        "def droplist(df, threshold):\n",
        "  out = []\n",
        "  corr = df.corr()\n",
        "  abscorr = corr.abs().to_numpy()\n",
        "  rows, cols = abscorr.shape\n",
        "  labels = list(corr.columns)\n",
        "  for i in range(cols):\n",
        "    for j in range(i+1, cols):\n",
        "      if abscorr[i, j] > threshold:\n",
        "        l = labels[j]\n",
        "        if out.count(l) == 0:\n",
        "          out.append(labels[j])\n",
        "  return out"
      ],
      "execution_count": 0,
      "outputs": []
    },
    {
      "cell_type": "code",
      "metadata": {
        "id": "yYnmxaOjLIPY",
        "colab_type": "code",
        "outputId": "c65338d5-5260-44fe-b744-ed7807eec279",
        "colab": {
          "base_uri": "https://localhost:8080/",
          "height": 34
        }
      },
      "source": [
        "dropl = droplist(reduced, 0.90)\n",
        "len(dropl)"
      ],
      "execution_count": 0,
      "outputs": [
        {
          "output_type": "execute_result",
          "data": {
            "text/plain": [
              "44"
            ]
          },
          "metadata": {
            "tags": []
          },
          "execution_count": 6
        }
      ]
    },
    {
      "cell_type": "code",
      "metadata": {
        "id": "12i732YILa73",
        "colab_type": "code",
        "outputId": "ccfcd85b-f690-4265-dc8b-ee065407497a",
        "colab": {
          "base_uri": "https://localhost:8080/",
          "height": 1462
        }
      },
      "source": [
        "reduced = reduced.drop(dropl, axis = 1)\n",
        "len(reduced.columns)\n",
        "x = 0\n",
        "\n",
        "for col in list(reduced.columns.values):\n",
        "  print(x, col)\n",
        "  x += 1"
      ],
      "execution_count": 0,
      "outputs": [
        {
          "output_type": "stream",
          "text": [
            "0 ID number\n",
            "1 Name\n",
            "2 ZIP code\n",
            "3 Highest degree offered\n",
            "4 County name\n",
            "5 Longitude location of institution\n",
            "6 Latitude location of institution\n",
            "7 Religious affiliation\n",
            "8 Offers Less than one year certificate\n",
            "9 Offers One but less than two years certificate\n",
            "10 Offers Associate's degree\n",
            "11 Offers Two but less than 4 years certificate\n",
            "12 Offers Bachelor's degree\n",
            "13 Offers Postbaccalaureate certificate\n",
            "14 Offers Master's degree\n",
            "15 Offers Post-master's certificate\n",
            "16 Offers Doctor's degree - research/scholarship\n",
            "17 Offers Doctor's degree - professional practice\n",
            "18 Offers Doctor's degree - other\n",
            "19 Offers Other degree\n",
            "20 Applicants total\n",
            "21 Admissions total\n",
            "22 Enrolled total\n",
            "23 Percent of freshmen submitting SAT scores\n",
            "24 Percent of freshmen submitting ACT scores\n",
            "25 SAT Critical Reading 25th percentile score\n",
            "26 Estimated enrollment, part time\n",
            "27 Estimated freshman enrollment, part time\n",
            "28 Estimated graduate enrollment, total\n",
            "29 Estimated graduate enrollment, part time\n",
            "30 Associate's degrees awarded\n",
            "31 Doctor's degrese - research/scholarship awarded\n",
            "32 Doctor's degrees - professional practice awarded\n",
            "33 Doctor's degrees - other awarded\n",
            "34 Certificates of less than 1-year awarded\n",
            "35 Certificates of 1 but less than 2-years awarded\n",
            "36 Certificates of 2 but less than 4-years awarded\n",
            "37 Postbaccalaureate certificates awarded\n",
            "38 Post-master's certificates awarded\n",
            "39 Number of students receiving a certificate of 1 but less than 4-years\n",
            "40 Number of students receiving a Postbaccalaureate or Post-master's certificate\n",
            "41 Percent admitted - total\n",
            "42 Admissions yield - total\n",
            "43 Tuition and fees, 2010-11\n",
            "44 State abbreviation\n",
            "45 FIPS state code\n",
            "46 Geographic region\n",
            "47 Sector of institution\n",
            "48 Level of institution\n",
            "49 Control of institution\n",
            "50 Historically Black College or University\n",
            "51 Tribal college\n",
            "52 Degree of urbanization (Urban-centric locale)\n",
            "53 Carnegie Classification 2010: Basic\n",
            "54 Percent of undergraduate enrollment that are American Indian or Alaska Native\n",
            "55 Percent of undergraduate enrollment that are Asian\n",
            "56 Percent of undergraduate enrollment that are Black or African American\n",
            "57 Percent of undergraduate enrollment that are Hispanic/Latino\n",
            "58 Percent of undergraduate enrollment that are Native Hawaiian or Other Pacific Islander\n",
            "59 Percent of undergraduate enrollment that are White\n",
            "60 Percent of undergraduate enrollment that are two or more races\n",
            "61 Percent of undergraduate enrollment that are Race/ethnicity unknown\n",
            "62 Percent of undergraduate enrollment that are Nonresident Alien\n",
            "63 Percent of undergraduate enrollment that are women\n",
            "64 Percent of graduate enrollment that are American Indian or Alaska Native\n",
            "65 Percent of graduate enrollment that are Asian\n",
            "66 Percent of graduate enrollment that are Native Hawaiian or Other Pacific Islander\n",
            "67 Percent of graduate enrollment that are White\n",
            "68 Percent of graduate enrollment that are two or more races\n",
            "69 Percent of graduate enrollment that are Race/ethnicity unknown\n",
            "70 Percent of graduate enrollment that are Nonresident Alien\n",
            "71 Percent of graduate enrollment that are women\n",
            "72 Percent of first-time undergraduates - in-state\n",
            "73 Percent of first-time undergraduates - foreign countries\n",
            "74 Percent of first-time undergraduates - residence unknown\n",
            "75 Graduation rate - Bachelor degree within 4 years, total\n",
            "76 Percent of freshmen receiving any financial aid\n",
            "77 Percent of freshmen  receiving federal grant aid\n",
            "78 Percent of freshmen receiving other federal grant aid\n",
            "79 Percent of freshmen receiving state/local grant aid\n",
            "80 Percent of freshmen receiving institutional grant aid\n",
            "81 Percent of freshmen receiving student loan aid\n",
            "82 Percent of freshmen receiving other loan aid\n",
            "83 Endowment assets (year end) per FTE enrollment (GASB)\n",
            "84 Endowment assets (year end) per FTE enrollment (FASB)\n"
          ],
          "name": "stdout"
        }
      ]
    },
    {
      "cell_type": "markdown",
      "metadata": {
        "id": "ULSfJ0vCwvgJ",
        "colab_type": "text"
      },
      "source": [
        "Used function to drop attributes whose thresholds do not exceed our desired correlation coefficient. "
      ]
    },
    {
      "cell_type": "code",
      "metadata": {
        "id": "DfWtNh17PF1g",
        "colab_type": "code",
        "colab": {}
      },
      "source": [
        "corr = reduced.corr()\n"
      ],
      "execution_count": 0,
      "outputs": []
    },
    {
      "cell_type": "code",
      "metadata": {
        "id": "nQtAl53ASDRs",
        "colab_type": "code",
        "outputId": "404e9486-717a-4b3f-92ff-12e0377a2738",
        "colab": {
          "base_uri": "https://localhost:8080/",
          "height": 684
        }
      },
      "source": [
        "sns.heatmap(corr)"
      ],
      "execution_count": 0,
      "outputs": [
        {
          "output_type": "execute_result",
          "data": {
            "text/plain": [
              "<matplotlib.axes._subplots.AxesSubplot at 0x7fc144294dd8>"
            ]
          },
          "metadata": {
            "tags": []
          },
          "execution_count": 9
        },
        {
          "output_type": "display_data",
          "data": {
            "image/png": "[encoded data removed]",
            "text/plain": [
              "<Figure size 432x288 with 2 Axes>"
            ]
          },
          "metadata": {
            "tags": []
          }
        }
      ]
    },
    {
      "cell_type": "code",
      "metadata": {
        "id": "AsrRh84l-iFx",
        "colab_type": "code",
        "colab": {}
      },
      "source": [
        "aid_list = [\"Percent of freshmen receiving any financial aid\",\n",
        "            \"Percent of freshmen  receiving federal grant aid\",\n",
        "            \"Percent of freshmen receiving other federal grant aid\",\n",
        "            \"Percent of freshmen receiving state/local grant aid\",\n",
        "            \"Percent of freshmen receiving institutional grant aid\",\n",
        "            \"Percent of freshmen receiving student loan aid\",\n",
        "            \"Percent of freshmen receiving other loan aid\"\n",
        "           ]"
      ],
      "execution_count": 0,
      "outputs": []
    },
    {
      "cell_type": "code",
      "metadata": {
        "id": "3ZPA2TmNl6Ds",
        "colab_type": "code",
        "colab": {}
      },
      "source": [
        "aid = data[aid_list]"
      ],
      "execution_count": 0,
      "outputs": []
    },
    {
      "cell_type": "code",
      "metadata": {
        "id": "Suh7HBqImHfr",
        "colab_type": "code",
        "outputId": "ae84bef3-e8f8-490d-8941-29ea358a5b13",
        "colab": {
          "base_uri": "https://localhost:8080/",
          "height": 544
        }
      },
      "source": [
        "sns.heatmap(aid.corr())"
      ],
      "execution_count": 0,
      "outputs": [
        {
          "output_type": "execute_result",
          "data": {
            "text/plain": [
              "<matplotlib.axes._subplots.AxesSubplot at 0x7fc14070b978>"
            ]
          },
          "metadata": {
            "tags": []
          },
          "execution_count": 12
        },
        {
          "output_type": "display_data",
          "data": {
            "image/png": "[encoded data removed]",
            "text/plain": [
              "<Figure size 432x288 with 2 Axes>"
            ]
          },
          "metadata": {
            "tags": []
          }
        }
      ]
    },
    {
      "cell_type": "code",
      "metadata": {
        "id": "GhfCioBS3hUq",
        "colab_type": "code",
        "outputId": "c4903e34-fa5a-4c01-de32-f30903a5fb12",
        "colab": {
          "base_uri": "https://localhost:8080/",
          "height": 1071
        }
      },
      "source": [
        "data[\"Control of institution\"]"
      ],
      "execution_count": 0,
      "outputs": [
        {
          "output_type": "execute_result",
          "data": {
            "text/plain": [
              "0                       Public\n",
              "1                       Public\n",
              "2       Private not-for-profit\n",
              "3                       Public\n",
              "4                       Public\n",
              "5                       Public\n",
              "6                       Public\n",
              "7                       Public\n",
              "8                       Public\n",
              "9       Private not-for-profit\n",
              "10      Private not-for-profit\n",
              "11      Private not-for-profit\n",
              "12      Private not-for-profit\n",
              "13                      Public\n",
              "14      Private not-for-profit\n",
              "15                      Public\n",
              "16      Private not-for-profit\n",
              "17      Private not-for-profit\n",
              "18                      Public\n",
              "19                      Public\n",
              "20      Private not-for-profit\n",
              "21      Private not-for-profit\n",
              "22                      Public\n",
              "23      Private not-for-profit\n",
              "24      Private not-for-profit\n",
              "25      Private not-for-profit\n",
              "26                      Public\n",
              "27      Private not-for-profit\n",
              "28                      Public\n",
              "29                      Public\n",
              "                 ...          \n",
              "1504    Private not-for-profit\n",
              "1505    Private not-for-profit\n",
              "1506    Private not-for-profit\n",
              "1507    Private not-for-profit\n",
              "1508    Private not-for-profit\n",
              "1509                    Public\n",
              "1510                    Public\n",
              "1511                    Public\n",
              "1512    Private not-for-profit\n",
              "1513    Private not-for-profit\n",
              "1514    Private not-for-profit\n",
              "1515    Private not-for-profit\n",
              "1516    Private not-for-profit\n",
              "1517    Private not-for-profit\n",
              "1518    Private not-for-profit\n",
              "1519    Private not-for-profit\n",
              "1520                    Public\n",
              "1521    Private not-for-profit\n",
              "1522    Private not-for-profit\n",
              "1523    Private not-for-profit\n",
              "1524    Private not-for-profit\n",
              "1525                    Public\n",
              "1526    Private not-for-profit\n",
              "1527    Private not-for-profit\n",
              "1528    Private not-for-profit\n",
              "1529                    Public\n",
              "1530    Private not-for-profit\n",
              "1531    Private not-for-profit\n",
              "1532    Private not-for-profit\n",
              "1533    Private not-for-profit\n",
              "Name: Control of institution, Length: 1534, dtype: object"
            ]
          },
          "metadata": {
            "tags": []
          },
          "execution_count": 13
        }
      ]
    },
    {
      "cell_type": "code",
      "metadata": {
        "id": "6X1pkZlamQhX",
        "colab_type": "code",
        "outputId": "cd37bc1f-7abd-4df5-c304-00868130b08f",
        "colab": {
          "base_uri": "https://localhost:8080/",
          "height": 238
        }
      },
      "source": [
        "data[\"Degree of urbanization (Urban-centric locale)\"].value_counts()"
      ],
      "execution_count": 0,
      "outputs": [
        {
          "output_type": "execute_result",
          "data": {
            "text/plain": [
              "City: Large        294\n",
              "Suburb: Large      290\n",
              "City: Small        225\n",
              "City: Midsize      185\n",
              "Town: Distant      165\n",
              "Town: Remote       125\n",
              "Town: Fringe        62\n",
              "Rural: Fringe       58\n",
              "Suburb: Midsize     49\n",
              "Suburb: Small       36\n",
              "Rural: Distant      30\n",
              "Rural: Remote       15\n",
              "Name: Degree of urbanization (Urban-centric locale), dtype: int64"
            ]
          },
          "metadata": {
            "tags": []
          },
          "execution_count": 14
        }
      ]
    },
    {
      "cell_type": "code",
      "metadata": {
        "id": "4ttmZPJMXzNv",
        "colab_type": "code",
        "colab": {}
      },
      "source": [
        "urban = data[\"Degree of urbanization (Urban-centric locale)\"].to_numpy()\n",
        "for i in range(len(urban)):\n",
        "  s = urban[i]\n",
        "  if (s.find(\"Rural\") != -1):\n",
        "    urban[i] = 'Rural'\n",
        "  elif (s.find(\"Suburb\") != -1):\n",
        "    urban[i] = 'Suburb'\n",
        "  elif (s == \"Town: Fringe\"):\n",
        "    urban[i] = 'Town: Remote'\n",
        "    \n",
        "data[\"Degree of urbanization (Urban-centric locale)\"] = urban"
      ],
      "execution_count": 0,
      "outputs": []
    },
    {
      "cell_type": "code",
      "metadata": {
        "id": "u4jVw5w0LGE6",
        "colab_type": "code",
        "colab": {}
      },
      "source": [
        "for i in range(len(urban)):\n",
        "  s = urban[i]\n",
        "  if (s == \"Rural\"):\n",
        "    urban[i] = 0\n",
        "  elif (s == \"Suburb\"):\n",
        "    urban[i] = 1\n",
        "  elif (s == \"Town: Remote\"):\n",
        "    urban[i] = 2\n",
        "  elif (s == \"Town: Distant\"):\n",
        "    urban[i] = 3\n",
        "  elif (s ==\"City: Small\"):\n",
        "    urban[i] = 4\n",
        "  elif (s == \"City: Midsize\"):\n",
        "    urban[i] = 5\n",
        "  else:\n",
        "    urban[i] = 6\n",
        "reduced[\"Degree of urbanization (Urban-centric locale)\"] = urban"
      ],
      "execution_count": 0,
      "outputs": []
    },
    {
      "cell_type": "code",
      "metadata": {
        "id": "98ncCLQuJu3E",
        "colab_type": "code",
        "colab": {}
      },
      "source": [
        "religous_col = []\n",
        "for x in reduced[\"Religious affiliation\"]:\n",
        "  if x == \"Not applicable\":\n",
        "    religous_col.append(0)\n",
        "  else:\n",
        "    religous_col.append(1)\n",
        "    \n",
        "reduced[\"Religious affiliation\"] = religous_col"
      ],
      "execution_count": 0,
      "outputs": []
    },
    {
      "cell_type": "code",
      "metadata": {
        "id": "c-mTZC4emQr2",
        "colab_type": "code",
        "outputId": "aaac509f-e71a-48e2-ad60-72d240fa742c",
        "colab": {
          "base_uri": "https://localhost:8080/",
          "height": 54
        }
      },
      "source": [
        "public = []\n",
        "private = []\n",
        "\n",
        "for t in data.itertuples():\n",
        "  if not np.isnan(t[133]):\n",
        "    if t[78] == \"Public\":\n",
        "      public.append(t[133])\n",
        "    else:\n",
        "      private.append(t[133])\n",
        "    \n",
        "print(public)"
      ],
      "execution_count": 0,
      "outputs": [
        {
          "output_type": "stream",
          "text": [
            "[29.0, 53.0, 48.0, 25.0, 67.0, 27.0, 68.0, 31.0, 30.0, 45.0, 32.0, 33.0, 36.0, 28.0, 37.0, 12.0, 59.0, 61.0, 49.0, 21.0, 60.0, 26.0, 36.0, 41.0, 22.0, 42.0, 29.0, 30.0, 24.0, 70.0, 39.0, 52.0, 41.0, 52.0, 56.0, 29.0, 49.0, 53.0, 38.0, 60.0, 36.0, 46.0, 43.0, 91.0, 81.0, 86.0, 90.0, 66.0, 86.0, 81.0, 73.0, 59.0, 40.0, 66.0, 45.0, 48.0, 54.0, 25.0, 41.0, 46.0, 70.0, 70.0, 64.0, 37.0, 33.0, 26.0, 46.0, 33.0, 42.0, 52.0, 83.0, 51.0, 49.0, 45.0, 37.0, 82.0, 16.0, 67.0, 41.0, 41.0, 52.0, 77.0, 87.0, 50.0, 63.0, 42.0, 42.0, 34.0, 29.0, 31.0, 21.0, 30.0, 82.0, 36.0, 61.0, 50.0, 53.0, 82.0, 43.0, 29.0, 38.0, 40.0, 43.0, 36.0, 57.0, 25.0, 38.0, 31.0, 54.0, 24.0, 21.0, 60.0, 57.0, 84.0, 72.0, 51.0, 20.0, 43.0, 44.0, 50.0, 56.0, 60.0, 25.0, 42.0, 37.0, 42.0, 28.0, 26.0, 77.0, 24.0, 30.0, 24.0, 30.0, 22.0, 68.0, 70.0, 66.0, 41.0, 44.0, 62.0, 60.0, 49.0, 37.0, 46.0, 39.0, 18.0, 60.0, 53.0, 45.0, 53.0, 38.0, 50.0, 31.0, 20.0, 67.0, 33.0, 50.0, 37.0, 32.0, 42.0, 40.0, 38.0, 36.0, 32.0, 11.0, 45.0, 12.0, 55.0, 44.0, 31.0, 56.0, 74.0, 30.0, 34.0, 38.0, 35.0, 14.0, 47.0, 3.0, 65.0, 84.0, 32.0, 34.0, 67.0, 79.0, 65.0, 58.0, 50.0, 51.0, 54.0, 73.0, 44.0, 67.0, 57.0, 46.0, 49.0, 59.0, 49.0, 59.0, 38.0, 49.0, 70.0, 42.0, 90.0, 78.0, 66.0, 52.0, 38.0, 48.0, 43.0, 39.0, 32.0, 55.0, 46.0, 49.0, 34.0, 75.0, 44.0, 59.0, 63.0, 46.0, 47.0, 43.0, 56.0, 34.0, 35.0, 39.0, 58.0, 39.0, 26.0, 61.0, 45.0, 54.0, 10.0, 22.0, 36.0, 33.0, 70.0, 51.0, 63.0, 46.0, 72.0, 48.0, 49.0, 53.0, 27.0, 48.0, 49.0, 48.0, 29.0, 45.0, 33.0, 53.0, 42.0, 67.0, 40.0, 46.0, 43.0, 51.0, 52.0, 80.0, 63.0, 67.0, 56.0, 9.0, 70.0, 32.0, 46.0, 63.0, 58.0, 73.0, 55.0, 79.0, 67.0, 65.0, 84.0, 50.0, 29.0, 18.0, 44.0, 48.0, 43.0, 0.0, 17.0, 67.0, 51.0, 51.0, 42.0, 50.0, 43.0, 37.0, 15.0, 25.0, 56.0, 26.0, 49.0, 29.0, 45.0, 44.0, 43.0, 25.0, 66.0, 81.0, 72.0, 66.0, 71.0, 48.0, 67.0, 49.0, 70.0, 64.0, 78.0, 70.0, 70.0, 58.0, 51.0, 60.0, 36.0, 60.0, 16.0, 50.0, 74.0, 69.0, 56.0, 42.0, 32.0, 43.0, 60.0, 90.0, 54.0, 55.0, 40.0, 74.0, 71.0, 33.0, 46.0, 51.0, 38.0, 36.0, 37.0, 53.0, 53.0, 46.0, 40.0, 54.0, 25.0, 63.0, 32.0, 32.0, 52.0, 81.0, 37.0, 42.0, 45.0, 43.0, 83.0, 66.0, 24.0, 46.0, 41.0, 33.0, 20.0, 36.0, 34.0, 31.0, 30.0, 31.0, 30.0, 60.0, 66.0, 18.0, 39.0, 31.0, 30.0, 23.0, 43.0, 61.0, 67.0, 42.0, 37.0, 44.0, 62.0, 53.0, 25.0, 54.0, 56.0, 46.0, 51.0, 55.0, 40.0, 48.0, 51.0, 61.0, 69.0, 55.0, 31.0, 50.0, 48.0, 56.0, 71.0, 45.0, 56.0, 61.0, 44.0, 54.0, 43.0, 53.0, 85.0, 47.0, 56.0, 48.0, 45.0, 50.0, 54.0, 53.0, 55.0, 80.0, 55.0, 63.0, 66.0, 69.0, 43.0, 63.0, 64.0, 69.0, 83.0, 41.0, 52.0, 42.0, 27.0, 73.0, 46.0, 36.0, 40.0, 56.0, 31.0, 49.0, 53.0, 57.0, 54.0, 36.0, 41.0, 43.0, 46.0, 37.0, 68.0, 46.0, 29.0, 51.0, 30.0, 40.0, 45.0, 14.0, 48.0, 34.0, 43.0, 44.0, 50.0, 39.0, 26.0, 37.0, 51.0, 43.0, 57.0, 27.0, 43.0, 34.0, 79.0, 40.0, 79.0, 63.0, 39.0, 44.0, 27.0, 30.0, 16.0, 59.0, 41.0, 40.0, 18.0, 41.0, 51.0, 22.0, 60.0, 43.0, 51.0, 37.0, 34.0, 38.0, 76.0, 90.0, 66.0, 67.0, 81.0, 63.0, 74.0, 37.0, 51.0, 59.0, 42.0, 83.0, 57.0, 93.0, 76.0, 46.0, 51.0, 45.0, 57.0, 65.0, 82.0, 69.0, 18.0, 36.0, 34.0, 30.0, 45.0, 29.0, 38.0, 17.0, 41.0, 20.0, 57.0, 55.0, 67.0, 46.0, 67.0, 54.0, 31.0, 54.0, 41.0, 83.0, 41.0, 54.0, 51.0, 58.0, 54.0, 70.0, 66.0, 42.0, 48.0, 68.0, 49.0, 38.0, 44.0, 66.0, 14.0, 52.0, 27.0, 43.0]\n"
          ],
          "name": "stdout"
        }
      ]
    },
    {
      "cell_type": "code",
      "metadata": {
        "id": "99CRVDNgAk72",
        "colab_type": "code",
        "outputId": "2b96c488-f6d9-4ce6-cfff-f756f3656c0a",
        "colab": {
          "base_uri": "https://localhost:8080/",
          "height": 289
        }
      },
      "source": [
        "box = sns.boxplot(x = \"Control of institution\", y = \"Percent of freshmen receiving any financial aid\", data = data)"
      ],
      "execution_count": 0,
      "outputs": [
        {
          "output_type": "display_data",
          "data": {
            "image/png": "[encoded data removed]",
            "text/plain": [
              "<Figure size 432x288 with 1 Axes>"
            ]
          },
          "metadata": {
            "tags": []
          }
        }
      ]
    },
    {
      "cell_type": "code",
      "metadata": {
        "id": "yiHatoCsDwOs",
        "colab_type": "code",
        "outputId": "bf87bd1a-4bc3-4e0c-db4e-6ff0faf82766",
        "colab": {
          "base_uri": "https://localhost:8080/",
          "height": 51
        }
      },
      "source": [
        "print(len(public))\n",
        "print(len(private))"
      ],
      "execution_count": 0,
      "outputs": [
        {
          "output_type": "stream",
          "text": [
            "549\n",
            "927\n"
          ],
          "name": "stdout"
        }
      ]
    },
    {
      "cell_type": "code",
      "metadata": {
        "id": "sLxVvcA0Gbxh",
        "colab_type": "code",
        "outputId": "d7d9cff0-287f-4068-a59e-1d7d105231fb",
        "colab": {
          "base_uri": "https://localhost:8080/",
          "height": 51
        }
      },
      "source": [
        "print(np.average(public))\n",
        "print(np.average(private))"
      ],
      "execution_count": 0,
      "outputs": [
        {
          "output_type": "stream",
          "text": [
            "48.154826958105645\n",
            "56.17044228694714\n"
          ],
          "name": "stdout"
        }
      ]
    },
    {
      "cell_type": "markdown",
      "metadata": {
        "id": "Cg2AbJNp_BKa",
        "colab_type": "text"
      },
      "source": [
        "Observing whether university is public or private influences volume of financial aid. From this visualization, it seems like it does "
      ]
    },
    {
      "cell_type": "markdown",
      "metadata": {
        "id": "5rGwsHCPt1jI",
        "colab_type": "text"
      },
      "source": [
        "## Deleting Attributes Unrelated to our Analysis"
      ]
    },
    {
      "cell_type": "code",
      "metadata": {
        "id": "SP9JPOiw60D5",
        "colab_type": "code",
        "colab": {}
      },
      "source": [
        "nextdrop = [\"ZIP code\",\n",
        "            \"Highest degree offered\",\n",
        "            \"County name\",\n",
        "            \"Longitude location of institution\",\n",
        "            \"Latitude location of institution\",\n",
        "            \"Offers Less than one year certificate\",\n",
        "            \"Offers One but less than two years certificate\",\n",
        "            \"Offers Associate's degree\",\n",
        "            \"Offers Two but less than 4 years certificate\",\n",
        "            \"Offers Postbaccalaureate certificate\",\n",
        "            \"Offers Master's degree\",\n",
        "            \"Offers Post-master's certificate\",\n",
        "            \"Offers Doctor's degree - research/scholarship\",\n",
        "            \"Offers Doctor's degree - professional practice\",\n",
        "            \"Offers Doctor's degree - other\",\n",
        "            \"Offers Other degree\",\n",
        "            \"Applicants total\",\n",
        "            \"Admissions total\",\n",
        "            \"Percent of freshmen submitting SAT scores\",\n",
        "            \"Percent of freshmen submitting ACT scores\",\n",
        "            \"Estimated enrollment, part time\",\n",
        "            \"Estimated freshman enrollment, part time\",\n",
        "\"Estimated graduate enrollment, total\",\n",
        "\"Estimated graduate enrollment, part time\",\n",
        "\"Associate's degrees awarded\",\n",
        "\"Doctor's degrese - research/scholarship awarded\",\n",
        "\"Doctor's degrees - professional practice awarded\",\n",
        "\"Doctor's degrees - other awarded\",\n",
        "\"Certificates of less than 1-year awarded\",\n",
        "\"Certificates of 1 but less than 2-years awarded\",\n",
        "\"Certificates of 2 but less than 4-years awarded\",\n",
        "\"Postbaccalaureate certificates awarded\",\n",
        "\"Post-master's certificates awarded\",\n",
        "\"Number of students receiving a certificate of 1 but less than 4-years\",\n",
        "\"Number of students receiving a Postbaccalaureate or Post-master's certificate\",\n",
        "\"Admissions yield - total\",\n",
        "\"FIPS state code\",\n",
        "\"Geographic region\",\n",
        "\"Sector of institution\",\n",
        "\"Level of institution\",\n",
        "\"Tribal college\",\n",
        "\"Carnegie Classification 2010: Basic\",\n",
        "\"Percent of graduate enrollment that are American Indian or Alaska Native\",\n",
        "\"Percent of graduate enrollment that are Asian\",\n",
        "\"Percent of graduate enrollment that are Native Hawaiian or Other Pacific Islander\",\n",
        "\"Percent of graduate enrollment that are White\",\n",
        "\"Percent of graduate enrollment that are two or more races\",\n",
        "            \"Percent of graduate enrollment that are Race/ethnicity unknown\",\n",
        "            \"Percent of graduate enrollment that are Nonresident Alien\",\n",
        "            \"Percent of graduate enrollment that are women\",\n",
        "            \"Percent of freshmen  receiving federal grant aid\",\n",
        "            \"Percent of freshmen receiving other federal grant aid\",\n",
        "            \"Percent of freshmen receiving state/local grant aid\",\n",
        "            \"Percent of freshmen receiving institutional grant aid\",\n",
        "            \"Percent of freshmen receiving student loan aid\",\n",
        "            \"Percent of freshmen receiving other loan aid\",\n",
        "            \"Endowment assets (year end) per FTE enrollment (GASB)\",\n",
        "            \"Endowment assets (year end) per FTE enrollment (FASB)\"\n",
        "]"
      ],
      "execution_count": 0,
      "outputs": []
    },
    {
      "cell_type": "code",
      "metadata": {
        "id": "L7-pIDpeuTPZ",
        "colab_type": "code",
        "outputId": "a1ac79c0-64a5-4f1f-a5ea-40914b2dee27",
        "colab": {
          "base_uri": "https://localhost:8080/",
          "height": 170
        }
      },
      "source": [
        "data[\"Percent of freshmen receiving any financial aid\"].describe()"
      ],
      "execution_count": 0,
      "outputs": [
        {
          "output_type": "execute_result",
          "data": {
            "text/plain": [
              "count    1492.000000\n",
              "mean       90.672252\n",
              "std        11.963692\n",
              "min        18.000000\n",
              "25%        87.000000\n",
              "50%        95.000000\n",
              "75%        99.000000\n",
              "max       100.000000\n",
              "Name: Percent of freshmen receiving any financial aid, dtype: float64"
            ]
          },
          "metadata": {
            "tags": []
          },
          "execution_count": 23
        }
      ]
    },
    {
      "cell_type": "markdown",
      "metadata": {
        "id": "bB87zg5i8mdd",
        "colab_type": "text"
      },
      "source": [
        "All the data is from 2013 so we can eliminate the year column. We are also eliminating County name since we already have attributes for ZIP code and state abbreviation. Longitude and latitude don't relate to the student's financial situation. Additionally, since we're not looking at grad students, we can delete the estimated graduate enrollment, part time."
      ]
    },
    {
      "cell_type": "markdown",
      "metadata": {
        "id": "vSNQ1hPz86jK",
        "colab_type": "text"
      },
      "source": [
        "Since we're only studying undergrads, we removed the columns relating to total enrollment and grad students."
      ]
    },
    {
      "cell_type": "markdown",
      "metadata": {
        "id": "xeqUDbkm9vIx",
        "colab_type": "text"
      },
      "source": [
        "We're studying \"Percent of freshmen receiving any sort of aid\" and realized that the other specifications of different kinds of aid are mere subsets of this one attribute, so these other ones do not give us any new information and only complicate our computations. Thus, we decided to remove them."
      ]
    },
    {
      "cell_type": "code",
      "metadata": {
        "id": "jeSQS4fmAGxY",
        "colab_type": "code",
        "colab": {}
      },
      "source": [
        "reduced = reduced.drop(nextdrop, axis = 1)\n",
        "reduced[\"Total  enrollment\"] = data[\"Total  enrollment\"]"
      ],
      "execution_count": 0,
      "outputs": []
    },
    {
      "cell_type": "code",
      "metadata": {
        "id": "P8PmPM5UAMHD",
        "colab_type": "code",
        "outputId": "ee78b185-1792-4a7e-cdc5-f9662eb63597",
        "colab": {
          "base_uri": "https://localhost:8080/",
          "height": 493
        }
      },
      "source": [
        "x = 0\n",
        "for col in reduced.columns:\n",
        "  print(col)\n",
        "  x += 1"
      ],
      "execution_count": 0,
      "outputs": [
        {
          "output_type": "stream",
          "text": [
            "ID number\n",
            "Name\n",
            "Religious affiliation\n",
            "Offers Bachelor's degree\n",
            "Enrolled total\n",
            "SAT Critical Reading 25th percentile score\n",
            "Percent admitted - total\n",
            "Tuition and fees, 2010-11\n",
            "State abbreviation\n",
            "Control of institution\n",
            "Historically Black College or University\n",
            "Degree of urbanization (Urban-centric locale)\n",
            "Percent of undergraduate enrollment that are American Indian or Alaska Native\n",
            "Percent of undergraduate enrollment that are Asian\n",
            "Percent of undergraduate enrollment that are Black or African American\n",
            "Percent of undergraduate enrollment that are Hispanic/Latino\n",
            "Percent of undergraduate enrollment that are Native Hawaiian or Other Pacific Islander\n",
            "Percent of undergraduate enrollment that are White\n",
            "Percent of undergraduate enrollment that are two or more races\n",
            "Percent of undergraduate enrollment that are Race/ethnicity unknown\n",
            "Percent of undergraduate enrollment that are Nonresident Alien\n",
            "Percent of undergraduate enrollment that are women\n",
            "Percent of first-time undergraduates - in-state\n",
            "Percent of first-time undergraduates - foreign countries\n",
            "Percent of first-time undergraduates - residence unknown\n",
            "Graduation rate - Bachelor degree within 4 years, total\n",
            "Percent of freshmen receiving any financial aid\n",
            "Total  enrollment\n"
          ],
          "name": "stdout"
        }
      ]
    },
    {
      "cell_type": "code",
      "metadata": {
        "id": "EsKLO37SC1df",
        "colab_type": "code",
        "outputId": "dc21e22f-21bf-4a46-bc42-874b6f0589dc",
        "colab": {
          "base_uri": "https://localhost:8080/",
          "height": 34
        }
      },
      "source": [
        "len(nextdrop)"
      ],
      "execution_count": 0,
      "outputs": [
        {
          "output_type": "execute_result",
          "data": {
            "text/plain": [
              "58"
            ]
          },
          "metadata": {
            "tags": []
          },
          "execution_count": 26
        }
      ]
    },
    {
      "cell_type": "code",
      "metadata": {
        "id": "E0w2gpIiK7YL",
        "colab_type": "code",
        "outputId": "eb25129c-8a92-4fa6-eb5e-769f5a24dd45",
        "colab": {
          "base_uri": "https://localhost:8080/",
          "height": 598
        }
      },
      "source": [
        "reduced.info()"
      ],
      "execution_count": 0,
      "outputs": [
        {
          "output_type": "stream",
          "text": [
            "<class 'pandas.core.frame.DataFrame'>\n",
            "RangeIndex: 1534 entries, 0 to 1533\n",
            "Data columns (total 28 columns):\n",
            "ID number                                                                                 1534 non-null int64\n",
            "Name                                                                                      1534 non-null object\n",
            "Religious affiliation                                                                     1534 non-null int64\n",
            "Offers Bachelor's degree                                                                  1532 non-null object\n",
            "Enrolled total                                                                            1377 non-null float64\n",
            "SAT Critical Reading 25th percentile score                                                1169 non-null float64\n",
            "Percent admitted - total                                                                  1376 non-null float64\n",
            "Tuition and fees, 2010-11                                                                 1490 non-null float64\n",
            "State abbreviation                                                                        1534 non-null object\n",
            "Control of institution                                                                    1534 non-null object\n",
            "Historically Black College or University                                                  1534 non-null object\n",
            "Degree of urbanization (Urban-centric locale)                                             1534 non-null object\n",
            "Percent of undergraduate enrollment that are American Indian or Alaska Native             1522 non-null float64\n",
            "Percent of undergraduate enrollment that are Asian                                        1522 non-null float64\n",
            "Percent of undergraduate enrollment that are Black or African American                    1522 non-null float64\n",
            "Percent of undergraduate enrollment that are Hispanic/Latino                              1522 non-null float64\n",
            "Percent of undergraduate enrollment that are Native Hawaiian or Other Pacific Islander    1522 non-null float64\n",
            "Percent of undergraduate enrollment that are White                                        1522 non-null float64\n",
            "Percent of undergraduate enrollment that are two or more races                            1522 non-null float64\n",
            "Percent of undergraduate enrollment that are Race/ethnicity unknown                       1522 non-null float64\n",
            "Percent of undergraduate enrollment that are Nonresident Alien                            1522 non-null float64\n",
            "Percent of undergraduate enrollment that are women                                        1522 non-null float64\n",
            "Percent of first-time undergraduates - in-state                                           911 non-null float64\n",
            "Percent of first-time undergraduates - foreign countries                                  911 non-null float64\n",
            "Percent of first-time undergraduates - residence unknown                                  911 non-null float64\n",
            "Graduation rate - Bachelor degree within 4 years, total                                   1476 non-null float64\n",
            "Percent of freshmen receiving any financial aid                                           1492 non-null float64\n",
            "Total  enrollment                                                                         1532 non-null float64\n",
            "dtypes: float64(20), int64(2), object(6)\n",
            "memory usage: 335.6+ KB\n"
          ],
          "name": "stdout"
        }
      ]
    },
    {
      "cell_type": "code",
      "metadata": {
        "id": "a39i-5myBGiR",
        "colab_type": "code",
        "colab": {}
      },
      "source": [
        "drop_rows = []\n",
        "copy = reduced.to_numpy()\n",
        "for i in range(len(copy)):\n",
        "  if copy[i, 3] != \"Yes\":\n",
        "    drop_rows.append(i)\n",
        "  \n",
        "reduced = reduced.drop(drop_rows)\n",
        "reduced = reduced.drop([\"Offers Bachelor's degree\"], axis = 1)\n",
        "reduced = reduced.reset_index(drop = True)\n"
      ],
      "execution_count": 0,
      "outputs": []
    },
    {
      "cell_type": "code",
      "metadata": {
        "id": "RDRmCgu8BKaz",
        "colab_type": "code",
        "outputId": "380a7d8d-51b5-477a-97c1-52c73ea23bf4",
        "colab": {
          "base_uri": "https://localhost:8080/",
          "height": 581
        }
      },
      "source": [
        "reduced.info()"
      ],
      "execution_count": 0,
      "outputs": [
        {
          "output_type": "stream",
          "text": [
            "<class 'pandas.core.frame.DataFrame'>\n",
            "RangeIndex: 1522 entries, 0 to 1521\n",
            "Data columns (total 27 columns):\n",
            "ID number                                                                                 1522 non-null int64\n",
            "Name                                                                                      1522 non-null object\n",
            "Religious affiliation                                                                     1522 non-null int64\n",
            "Enrolled total                                                                            1377 non-null float64\n",
            "SAT Critical Reading 25th percentile score                                                1169 non-null float64\n",
            "Percent admitted - total                                                                  1376 non-null float64\n",
            "Tuition and fees, 2010-11                                                                 1490 non-null float64\n",
            "State abbreviation                                                                        1522 non-null object\n",
            "Control of institution                                                                    1522 non-null object\n",
            "Historically Black College or University                                                  1522 non-null object\n",
            "Degree of urbanization (Urban-centric locale)                                             1522 non-null object\n",
            "Percent of undergraduate enrollment that are American Indian or Alaska Native             1522 non-null float64\n",
            "Percent of undergraduate enrollment that are Asian                                        1522 non-null float64\n",
            "Percent of undergraduate enrollment that are Black or African American                    1522 non-null float64\n",
            "Percent of undergraduate enrollment that are Hispanic/Latino                              1522 non-null float64\n",
            "Percent of undergraduate enrollment that are Native Hawaiian or Other Pacific Islander    1522 non-null float64\n",
            "Percent of undergraduate enrollment that are White                                        1522 non-null float64\n",
            "Percent of undergraduate enrollment that are two or more races                            1522 non-null float64\n",
            "Percent of undergraduate enrollment that are Race/ethnicity unknown                       1522 non-null float64\n",
            "Percent of undergraduate enrollment that are Nonresident Alien                            1522 non-null float64\n",
            "Percent of undergraduate enrollment that are women                                        1522 non-null float64\n",
            "Percent of first-time undergraduates - in-state                                           911 non-null float64\n",
            "Percent of first-time undergraduates - foreign countries                                  911 non-null float64\n",
            "Percent of first-time undergraduates - residence unknown                                  911 non-null float64\n",
            "Graduation rate - Bachelor degree within 4 years, total                                   1476 non-null float64\n",
            "Percent of freshmen receiving any financial aid                                           1492 non-null float64\n",
            "Total  enrollment                                                                         1522 non-null float64\n",
            "dtypes: float64(20), int64(2), object(5)\n",
            "memory usage: 321.1+ KB\n"
          ],
          "name": "stdout"
        }
      ]
    },
    {
      "cell_type": "code",
      "metadata": {
        "id": "p95OQ99CIRjO",
        "colab_type": "code",
        "outputId": "2d60c153-c22f-43d6-fbfd-29e053805d6c",
        "colab": {
          "base_uri": "https://localhost:8080/",
          "height": 170
        }
      },
      "source": [
        "np.unique(reduced[\"Percent of freshmen receiving any financial aid\"].get_values())"
      ],
      "execution_count": 0,
      "outputs": [
        {
          "output_type": "execute_result",
          "data": {
            "text/plain": [
              "array([ 18.,  22.,  33.,  35.,  41.,  43.,  44.,  45.,  47.,  49.,  50.,\n",
              "        51.,  53.,  54.,  55.,  56.,  57.,  58.,  59.,  60.,  61.,  62.,\n",
              "        63.,  64.,  65.,  66.,  67.,  68.,  69.,  70.,  71.,  72.,  73.,\n",
              "        74.,  75.,  76.,  77.,  78.,  79.,  80.,  81.,  82.,  83.,  84.,\n",
              "        85.,  86.,  87.,  88.,  89.,  90.,  91.,  92.,  93.,  94.,  95.,\n",
              "        96.,  97.,  98.,  99., 100.,  nan,  nan,  nan,  nan,  nan,  nan,\n",
              "        nan,  nan,  nan,  nan,  nan,  nan,  nan,  nan,  nan,  nan,  nan,\n",
              "        nan,  nan,  nan,  nan,  nan,  nan,  nan,  nan,  nan,  nan,  nan,\n",
              "        nan,  nan])"
            ]
          },
          "metadata": {
            "tags": []
          },
          "execution_count": 30
        }
      ]
    },
    {
      "cell_type": "code",
      "metadata": {
        "id": "22HUWPwzJHk1",
        "colab_type": "code",
        "colab": {}
      },
      "source": [
        "dropnan = []\n",
        "nanlist = np.isnan(reduced[\"Percent of freshmen receiving any financial aid\"].get_values())\n",
        "for i in range(len(nanlist)):\n",
        "  if nanlist[i]:\n",
        "    dropnan.append(i)\n",
        "reduced = reduced.drop(dropnan)\n",
        "reduced = reduced.reset_index(drop = True)\n"
      ],
      "execution_count": 0,
      "outputs": []
    },
    {
      "cell_type": "code",
      "metadata": {
        "id": "Id7KHIVoKYzP",
        "colab_type": "code",
        "outputId": "74fa13dd-4946-4a02-b8c8-b3c22fb05fd4",
        "colab": {
          "base_uri": "https://localhost:8080/",
          "height": 581
        }
      },
      "source": [
        "reduced.info()"
      ],
      "execution_count": 0,
      "outputs": [
        {
          "output_type": "stream",
          "text": [
            "<class 'pandas.core.frame.DataFrame'>\n",
            "RangeIndex: 1492 entries, 0 to 1491\n",
            "Data columns (total 27 columns):\n",
            "ID number                                                                                 1492 non-null int64\n",
            "Name                                                                                      1492 non-null object\n",
            "Religious affiliation                                                                     1492 non-null int64\n",
            "Enrolled total                                                                            1373 non-null float64\n",
            "SAT Critical Reading 25th percentile score                                                1167 non-null float64\n",
            "Percent admitted - total                                                                  1373 non-null float64\n",
            "Tuition and fees, 2010-11                                                                 1488 non-null float64\n",
            "State abbreviation                                                                        1492 non-null object\n",
            "Control of institution                                                                    1492 non-null object\n",
            "Historically Black College or University                                                  1492 non-null object\n",
            "Degree of urbanization (Urban-centric locale)                                             1492 non-null object\n",
            "Percent of undergraduate enrollment that are American Indian or Alaska Native             1492 non-null float64\n",
            "Percent of undergraduate enrollment that are Asian                                        1492 non-null float64\n",
            "Percent of undergraduate enrollment that are Black or African American                    1492 non-null float64\n",
            "Percent of undergraduate enrollment that are Hispanic/Latino                              1492 non-null float64\n",
            "Percent of undergraduate enrollment that are Native Hawaiian or Other Pacific Islander    1492 non-null float64\n",
            "Percent of undergraduate enrollment that are White                                        1492 non-null float64\n",
            "Percent of undergraduate enrollment that are two or more races                            1492 non-null float64\n",
            "Percent of undergraduate enrollment that are Race/ethnicity unknown                       1492 non-null float64\n",
            "Percent of undergraduate enrollment that are Nonresident Alien                            1492 non-null float64\n",
            "Percent of undergraduate enrollment that are women                                        1492 non-null float64\n",
            "Percent of first-time undergraduates - in-state                                           908 non-null float64\n",
            "Percent of first-time undergraduates - foreign countries                                  908 non-null float64\n",
            "Percent of first-time undergraduates - residence unknown                                  908 non-null float64\n",
            "Graduation rate - Bachelor degree within 4 years, total                                   1475 non-null float64\n",
            "Percent of freshmen receiving any financial aid                                           1492 non-null float64\n",
            "Total  enrollment                                                                         1492 non-null float64\n",
            "dtypes: float64(20), int64(2), object(5)\n",
            "memory usage: 314.8+ KB\n"
          ],
          "name": "stdout"
        }
      ]
    },
    {
      "cell_type": "code",
      "metadata": {
        "id": "CVzTxSVYLFU5",
        "colab_type": "code",
        "outputId": "8f326fd1-1022-4eb6-827d-ddcfc0fab720",
        "colab": {
          "base_uri": "https://localhost:8080/",
          "height": 530
        }
      },
      "source": [
        "reduced.head()"
      ],
      "execution_count": 0,
      "outputs": [
        {
          "output_type": "execute_result",
          "data": {
            "text/html": [
              "<div>\n",
              "<style scoped>\n",
              "    .dataframe tbody tr th:only-of-type {\n",
              "        vertical-align: middle;\n",
              "    }\n",
              "\n",
              "    .dataframe tbody tr th {\n",
              "        vertical-align: top;\n",
              "    }\n",
              "\n",
              "    .dataframe thead th {\n",
              "        text-align: right;\n",
              "    }\n",
              "</style>\n",
              "<table border=\"1\" class=\"dataframe\">\n",
              "  <thead>\n",
              "    <tr style=\"text-align: right;\">\n",
              "      <th></th>\n",
              "      <th>ID number</th>\n",
              "      <th>Name</th>\n",
              "      <th>Religious affiliation</th>\n",
              "      <th>Enrolled total</th>\n",
              "      <th>SAT Critical Reading 25th percentile score</th>\n",
              "      <th>Percent admitted - total</th>\n",
              "      <th>Tuition and fees, 2010-11</th>\n",
              "      <th>State abbreviation</th>\n",
              "      <th>Control of institution</th>\n",
              "      <th>Historically Black College or University</th>\n",
              "      <th>Degree of urbanization (Urban-centric locale)</th>\n",
              "      <th>Percent of undergraduate enrollment that are American Indian or Alaska Native</th>\n",
              "      <th>Percent of undergraduate enrollment that are Asian</th>\n",
              "      <th>Percent of undergraduate enrollment that are Black or African American</th>\n",
              "      <th>Percent of undergraduate enrollment that are Hispanic/Latino</th>\n",
              "      <th>Percent of undergraduate enrollment that are Native Hawaiian or Other Pacific Islander</th>\n",
              "      <th>Percent of undergraduate enrollment that are White</th>\n",
              "      <th>Percent of undergraduate enrollment that are two or more races</th>\n",
              "      <th>Percent of undergraduate enrollment that are Race/ethnicity unknown</th>\n",
              "      <th>Percent of undergraduate enrollment that are Nonresident Alien</th>\n",
              "      <th>Percent of undergraduate enrollment that are women</th>\n",
              "      <th>Percent of first-time undergraduates - in-state</th>\n",
              "      <th>Percent of first-time undergraduates - foreign countries</th>\n",
              "      <th>Percent of first-time undergraduates - residence unknown</th>\n",
              "      <th>Graduation rate - Bachelor degree within 4 years, total</th>\n",
              "      <th>Percent of freshmen receiving any financial aid</th>\n",
              "      <th>Total  enrollment</th>\n",
              "    </tr>\n",
              "  </thead>\n",
              "  <tbody>\n",
              "    <tr>\n",
              "      <th>0</th>\n",
              "      <td>100654</td>\n",
              "      <td>Alabama A &amp; M University</td>\n",
              "      <td>0</td>\n",
              "      <td>1104.0</td>\n",
              "      <td>370.0</td>\n",
              "      <td>90.0</td>\n",
              "      <td>5800.0</td>\n",
              "      <td>Alabama</td>\n",
              "      <td>Public</td>\n",
              "      <td>Yes</td>\n",
              "      <td>5</td>\n",
              "      <td>0.0</td>\n",
              "      <td>0.0</td>\n",
              "      <td>95.0</td>\n",
              "      <td>1.0</td>\n",
              "      <td>0.0</td>\n",
              "      <td>3.0</td>\n",
              "      <td>0.0</td>\n",
              "      <td>1.0</td>\n",
              "      <td>0.0</td>\n",
              "      <td>51.0</td>\n",
              "      <td>NaN</td>\n",
              "      <td>NaN</td>\n",
              "      <td>NaN</td>\n",
              "      <td>10.0</td>\n",
              "      <td>97.0</td>\n",
              "      <td>5020.0</td>\n",
              "    </tr>\n",
              "    <tr>\n",
              "      <th>1</th>\n",
              "      <td>100663</td>\n",
              "      <td>University of Alabama at Birmingham</td>\n",
              "      <td>0</td>\n",
              "      <td>1773.0</td>\n",
              "      <td>520.0</td>\n",
              "      <td>87.0</td>\n",
              "      <td>5806.0</td>\n",
              "      <td>Alabama</td>\n",
              "      <td>Public</td>\n",
              "      <td>No</td>\n",
              "      <td>5</td>\n",
              "      <td>0.0</td>\n",
              "      <td>5.0</td>\n",
              "      <td>26.0</td>\n",
              "      <td>3.0</td>\n",
              "      <td>0.0</td>\n",
              "      <td>60.0</td>\n",
              "      <td>3.0</td>\n",
              "      <td>1.0</td>\n",
              "      <td>2.0</td>\n",
              "      <td>58.0</td>\n",
              "      <td>86.0</td>\n",
              "      <td>1.0</td>\n",
              "      <td>0.0</td>\n",
              "      <td>29.0</td>\n",
              "      <td>90.0</td>\n",
              "      <td>18568.0</td>\n",
              "    </tr>\n",
              "    <tr>\n",
              "      <th>2</th>\n",
              "      <td>100690</td>\n",
              "      <td>Amridge University</td>\n",
              "      <td>1</td>\n",
              "      <td>NaN</td>\n",
              "      <td>NaN</td>\n",
              "      <td>NaN</td>\n",
              "      <td>8360.0</td>\n",
              "      <td>Alabama</td>\n",
              "      <td>Private not-for-profit</td>\n",
              "      <td>No</td>\n",
              "      <td>5</td>\n",
              "      <td>0.0</td>\n",
              "      <td>0.0</td>\n",
              "      <td>42.0</td>\n",
              "      <td>1.0</td>\n",
              "      <td>0.0</td>\n",
              "      <td>29.0</td>\n",
              "      <td>0.0</td>\n",
              "      <td>27.0</td>\n",
              "      <td>0.0</td>\n",
              "      <td>61.0</td>\n",
              "      <td>NaN</td>\n",
              "      <td>NaN</td>\n",
              "      <td>NaN</td>\n",
              "      <td>0.0</td>\n",
              "      <td>100.0</td>\n",
              "      <td>631.0</td>\n",
              "    </tr>\n",
              "    <tr>\n",
              "      <th>3</th>\n",
              "      <td>100706</td>\n",
              "      <td>University of Alabama in Huntsville</td>\n",
              "      <td>0</td>\n",
              "      <td>651.0</td>\n",
              "      <td>510.0</td>\n",
              "      <td>81.0</td>\n",
              "      <td>7492.0</td>\n",
              "      <td>Alabama</td>\n",
              "      <td>Public</td>\n",
              "      <td>No</td>\n",
              "      <td>5</td>\n",
              "      <td>1.0</td>\n",
              "      <td>4.0</td>\n",
              "      <td>13.0</td>\n",
              "      <td>3.0</td>\n",
              "      <td>0.0</td>\n",
              "      <td>70.0</td>\n",
              "      <td>2.0</td>\n",
              "      <td>3.0</td>\n",
              "      <td>4.0</td>\n",
              "      <td>44.0</td>\n",
              "      <td>79.0</td>\n",
              "      <td>4.0</td>\n",
              "      <td>3.0</td>\n",
              "      <td>16.0</td>\n",
              "      <td>87.0</td>\n",
              "      <td>7376.0</td>\n",
              "    </tr>\n",
              "    <tr>\n",
              "      <th>4</th>\n",
              "      <td>100724</td>\n",
              "      <td>Alabama State University</td>\n",
              "      <td>0</td>\n",
              "      <td>1479.0</td>\n",
              "      <td>380.0</td>\n",
              "      <td>51.0</td>\n",
              "      <td>7164.0</td>\n",
              "      <td>Alabama</td>\n",
              "      <td>Public</td>\n",
              "      <td>Yes</td>\n",
              "      <td>5</td>\n",
              "      <td>0.0</td>\n",
              "      <td>0.0</td>\n",
              "      <td>93.0</td>\n",
              "      <td>1.0</td>\n",
              "      <td>0.0</td>\n",
              "      <td>2.0</td>\n",
              "      <td>1.0</td>\n",
              "      <td>1.0</td>\n",
              "      <td>2.0</td>\n",
              "      <td>59.0</td>\n",
              "      <td>58.0</td>\n",
              "      <td>4.0</td>\n",
              "      <td>0.0</td>\n",
              "      <td>9.0</td>\n",
              "      <td>93.0</td>\n",
              "      <td>6075.0</td>\n",
              "    </tr>\n",
              "  </tbody>\n",
              "</table>\n",
              "</div>"
            ],
            "text/plain": [
              "   ID number  ... Total  enrollment\n",
              "0     100654  ...            5020.0\n",
              "1     100663  ...           18568.0\n",
              "2     100690  ...             631.0\n",
              "3     100706  ...            7376.0\n",
              "4     100724  ...            6075.0\n",
              "\n",
              "[5 rows x 27 columns]"
            ]
          },
          "metadata": {
            "tags": []
          },
          "execution_count": 33
        }
      ]
    },
    {
      "cell_type": "code",
      "metadata": {
        "id": "eIKxN4LkNPo7",
        "colab_type": "code",
        "outputId": "f36f6e8e-37c1-4856-f18c-1189f9275469",
        "colab": {
          "base_uri": "https://localhost:8080/",
          "height": 581
        }
      },
      "source": [
        "reduced.info()"
      ],
      "execution_count": 0,
      "outputs": [
        {
          "output_type": "stream",
          "text": [
            "<class 'pandas.core.frame.DataFrame'>\n",
            "RangeIndex: 1492 entries, 0 to 1491\n",
            "Data columns (total 27 columns):\n",
            "ID number                                                                                 1492 non-null int64\n",
            "Name                                                                                      1492 non-null object\n",
            "Religious affiliation                                                                     1492 non-null int64\n",
            "Enrolled total                                                                            1373 non-null float64\n",
            "SAT Critical Reading 25th percentile score                                                1167 non-null float64\n",
            "Percent admitted - total                                                                  1373 non-null float64\n",
            "Tuition and fees, 2010-11                                                                 1488 non-null float64\n",
            "State abbreviation                                                                        1492 non-null object\n",
            "Control of institution                                                                    1492 non-null object\n",
            "Historically Black College or University                                                  1492 non-null object\n",
            "Degree of urbanization (Urban-centric locale)                                             1492 non-null object\n",
            "Percent of undergraduate enrollment that are American Indian or Alaska Native             1492 non-null float64\n",
            "Percent of undergraduate enrollment that are Asian                                        1492 non-null float64\n",
            "Percent of undergraduate enrollment that are Black or African American                    1492 non-null float64\n",
            "Percent of undergraduate enrollment that are Hispanic/Latino                              1492 non-null float64\n",
            "Percent of undergraduate enrollment that are Native Hawaiian or Other Pacific Islander    1492 non-null float64\n",
            "Percent of undergraduate enrollment that are White                                        1492 non-null float64\n",
            "Percent of undergraduate enrollment that are two or more races                            1492 non-null float64\n",
            "Percent of undergraduate enrollment that are Race/ethnicity unknown                       1492 non-null float64\n",
            "Percent of undergraduate enrollment that are Nonresident Alien                            1492 non-null float64\n",
            "Percent of undergraduate enrollment that are women                                        1492 non-null float64\n",
            "Percent of first-time undergraduates - in-state                                           908 non-null float64\n",
            "Percent of first-time undergraduates - foreign countries                                  908 non-null float64\n",
            "Percent of first-time undergraduates - residence unknown                                  908 non-null float64\n",
            "Graduation rate - Bachelor degree within 4 years, total                                   1475 non-null float64\n",
            "Percent of freshmen receiving any financial aid                                           1492 non-null float64\n",
            "Total  enrollment                                                                         1492 non-null float64\n",
            "dtypes: float64(20), int64(2), object(5)\n",
            "memory usage: 314.8+ KB\n"
          ],
          "name": "stdout"
        }
      ]
    },
    {
      "cell_type": "code",
      "metadata": {
        "id": "m3C5FcJWMxyl",
        "colab_type": "code",
        "colab": {}
      },
      "source": [
        "residence = [\"Percent of first-time undergraduates - in-state\",\n",
        "             \"Percent of first-time undergraduates - foreign countries\",\n",
        "             \"Percent of first-time undergraduates - residence unknown\",\n",
        "             \"SAT Critical Reading 25th percentile score\",\n",
        "             \"Enrolled total\",\n",
        "             \"Percent admitted - total\"\n",
        "            ]\n",
        "\n",
        "reduced = reduced.drop(residence, axis=1)"
      ],
      "execution_count": 0,
      "outputs": []
    },
    {
      "cell_type": "code",
      "metadata": {
        "id": "61ul_VWnSQoO",
        "colab_type": "code",
        "outputId": "c7eb7266-c03e-4b4f-ea06-f2f48ef488dc",
        "colab": {
          "base_uri": "https://localhost:8080/",
          "height": 479
        }
      },
      "source": [
        "reduced.info()"
      ],
      "execution_count": 0,
      "outputs": [
        {
          "output_type": "stream",
          "text": [
            "<class 'pandas.core.frame.DataFrame'>\n",
            "RangeIndex: 1492 entries, 0 to 1491\n",
            "Data columns (total 21 columns):\n",
            "ID number                                                                                 1492 non-null int64\n",
            "Name                                                                                      1492 non-null object\n",
            "Religious affiliation                                                                     1492 non-null int64\n",
            "Tuition and fees, 2010-11                                                                 1488 non-null float64\n",
            "State abbreviation                                                                        1492 non-null object\n",
            "Control of institution                                                                    1492 non-null object\n",
            "Historically Black College or University                                                  1492 non-null object\n",
            "Degree of urbanization (Urban-centric locale)                                             1492 non-null object\n",
            "Percent of undergraduate enrollment that are American Indian or Alaska Native             1492 non-null float64\n",
            "Percent of undergraduate enrollment that are Asian                                        1492 non-null float64\n",
            "Percent of undergraduate enrollment that are Black or African American                    1492 non-null float64\n",
            "Percent of undergraduate enrollment that are Hispanic/Latino                              1492 non-null float64\n",
            "Percent of undergraduate enrollment that are Native Hawaiian or Other Pacific Islander    1492 non-null float64\n",
            "Percent of undergraduate enrollment that are White                                        1492 non-null float64\n",
            "Percent of undergraduate enrollment that are two or more races                            1492 non-null float64\n",
            "Percent of undergraduate enrollment that are Race/ethnicity unknown                       1492 non-null float64\n",
            "Percent of undergraduate enrollment that are Nonresident Alien                            1492 non-null float64\n",
            "Percent of undergraduate enrollment that are women                                        1492 non-null float64\n",
            "Graduation rate - Bachelor degree within 4 years, total                                   1475 non-null float64\n",
            "Percent of freshmen receiving any financial aid                                           1492 non-null float64\n",
            "Total  enrollment                                                                         1492 non-null float64\n",
            "dtypes: float64(14), int64(2), object(5)\n",
            "memory usage: 244.9+ KB\n"
          ],
          "name": "stdout"
        }
      ]
    },
    {
      "cell_type": "code",
      "metadata": {
        "id": "jKE6Zo0bUlYg",
        "colab_type": "code",
        "outputId": "0ea4633e-e0e3-4ece-9c1c-990bae3a0256",
        "colab": {
          "base_uri": "https://localhost:8080/",
          "height": 530
        }
      },
      "source": [
        "reduced.head()"
      ],
      "execution_count": 0,
      "outputs": [
        {
          "output_type": "execute_result",
          "data": {
            "text/html": [
              "<div>\n",
              "<style scoped>\n",
              "    .dataframe tbody tr th:only-of-type {\n",
              "        vertical-align: middle;\n",
              "    }\n",
              "\n",
              "    .dataframe tbody tr th {\n",
              "        vertical-align: top;\n",
              "    }\n",
              "\n",
              "    .dataframe thead th {\n",
              "        text-align: right;\n",
              "    }\n",
              "</style>\n",
              "<table border=\"1\" class=\"dataframe\">\n",
              "  <thead>\n",
              "    <tr style=\"text-align: right;\">\n",
              "      <th></th>\n",
              "      <th>ID number</th>\n",
              "      <th>Name</th>\n",
              "      <th>Religious affiliation</th>\n",
              "      <th>Tuition and fees, 2010-11</th>\n",
              "      <th>State abbreviation</th>\n",
              "      <th>Control of institution</th>\n",
              "      <th>Historically Black College or University</th>\n",
              "      <th>Degree of urbanization (Urban-centric locale)</th>\n",
              "      <th>Percent of undergraduate enrollment that are American Indian or Alaska Native</th>\n",
              "      <th>Percent of undergraduate enrollment that are Asian</th>\n",
              "      <th>Percent of undergraduate enrollment that are Black or African American</th>\n",
              "      <th>Percent of undergraduate enrollment that are Hispanic/Latino</th>\n",
              "      <th>Percent of undergraduate enrollment that are Native Hawaiian or Other Pacific Islander</th>\n",
              "      <th>Percent of undergraduate enrollment that are White</th>\n",
              "      <th>Percent of undergraduate enrollment that are two or more races</th>\n",
              "      <th>Percent of undergraduate enrollment that are Race/ethnicity unknown</th>\n",
              "      <th>Percent of undergraduate enrollment that are Nonresident Alien</th>\n",
              "      <th>Percent of undergraduate enrollment that are women</th>\n",
              "      <th>Graduation rate - Bachelor degree within 4 years, total</th>\n",
              "      <th>Percent of freshmen receiving any financial aid</th>\n",
              "      <th>Total  enrollment</th>\n",
              "    </tr>\n",
              "  </thead>\n",
              "  <tbody>\n",
              "    <tr>\n",
              "      <th>0</th>\n",
              "      <td>100654</td>\n",
              "      <td>Alabama A &amp; M University</td>\n",
              "      <td>0</td>\n",
              "      <td>5800.0</td>\n",
              "      <td>Alabama</td>\n",
              "      <td>Public</td>\n",
              "      <td>Yes</td>\n",
              "      <td>5</td>\n",
              "      <td>0.0</td>\n",
              "      <td>0.0</td>\n",
              "      <td>95.0</td>\n",
              "      <td>1.0</td>\n",
              "      <td>0.0</td>\n",
              "      <td>3.0</td>\n",
              "      <td>0.0</td>\n",
              "      <td>1.0</td>\n",
              "      <td>0.0</td>\n",
              "      <td>51.0</td>\n",
              "      <td>10.0</td>\n",
              "      <td>97.0</td>\n",
              "      <td>5020.0</td>\n",
              "    </tr>\n",
              "    <tr>\n",
              "      <th>1</th>\n",
              "      <td>100663</td>\n",
              "      <td>University of Alabama at Birmingham</td>\n",
              "      <td>0</td>\n",
              "      <td>5806.0</td>\n",
              "      <td>Alabama</td>\n",
              "      <td>Public</td>\n",
              "      <td>No</td>\n",
              "      <td>5</td>\n",
              "      <td>0.0</td>\n",
              "      <td>5.0</td>\n",
              "      <td>26.0</td>\n",
              "      <td>3.0</td>\n",
              "      <td>0.0</td>\n",
              "      <td>60.0</td>\n",
              "      <td>3.0</td>\n",
              "      <td>1.0</td>\n",
              "      <td>2.0</td>\n",
              "      <td>58.0</td>\n",
              "      <td>29.0</td>\n",
              "      <td>90.0</td>\n",
              "      <td>18568.0</td>\n",
              "    </tr>\n",
              "    <tr>\n",
              "      <th>2</th>\n",
              "      <td>100690</td>\n",
              "      <td>Amridge University</td>\n",
              "      <td>1</td>\n",
              "      <td>8360.0</td>\n",
              "      <td>Alabama</td>\n",
              "      <td>Private not-for-profit</td>\n",
              "      <td>No</td>\n",
              "      <td>5</td>\n",
              "      <td>0.0</td>\n",
              "      <td>0.0</td>\n",
              "      <td>42.0</td>\n",
              "      <td>1.0</td>\n",
              "      <td>0.0</td>\n",
              "      <td>29.0</td>\n",
              "      <td>0.0</td>\n",
              "      <td>27.0</td>\n",
              "      <td>0.0</td>\n",
              "      <td>61.0</td>\n",
              "      <td>0.0</td>\n",
              "      <td>100.0</td>\n",
              "      <td>631.0</td>\n",
              "    </tr>\n",
              "    <tr>\n",
              "      <th>3</th>\n",
              "      <td>100706</td>\n",
              "      <td>University of Alabama in Huntsville</td>\n",
              "      <td>0</td>\n",
              "      <td>7492.0</td>\n",
              "      <td>Alabama</td>\n",
              "      <td>Public</td>\n",
              "      <td>No</td>\n",
              "      <td>5</td>\n",
              "      <td>1.0</td>\n",
              "      <td>4.0</td>\n",
              "      <td>13.0</td>\n",
              "      <td>3.0</td>\n",
              "      <td>0.0</td>\n",
              "      <td>70.0</td>\n",
              "      <td>2.0</td>\n",
              "      <td>3.0</td>\n",
              "      <td>4.0</td>\n",
              "      <td>44.0</td>\n",
              "      <td>16.0</td>\n",
              "      <td>87.0</td>\n",
              "      <td>7376.0</td>\n",
              "    </tr>\n",
              "    <tr>\n",
              "      <th>4</th>\n",
              "      <td>100724</td>\n",
              "      <td>Alabama State University</td>\n",
              "      <td>0</td>\n",
              "      <td>7164.0</td>\n",
              "      <td>Alabama</td>\n",
              "      <td>Public</td>\n",
              "      <td>Yes</td>\n",
              "      <td>5</td>\n",
              "      <td>0.0</td>\n",
              "      <td>0.0</td>\n",
              "      <td>93.0</td>\n",
              "      <td>1.0</td>\n",
              "      <td>0.0</td>\n",
              "      <td>2.0</td>\n",
              "      <td>1.0</td>\n",
              "      <td>1.0</td>\n",
              "      <td>2.0</td>\n",
              "      <td>59.0</td>\n",
              "      <td>9.0</td>\n",
              "      <td>93.0</td>\n",
              "      <td>6075.0</td>\n",
              "    </tr>\n",
              "  </tbody>\n",
              "</table>\n",
              "</div>"
            ],
            "text/plain": [
              "   ID number  ... Total  enrollment\n",
              "0     100654  ...            5020.0\n",
              "1     100663  ...           18568.0\n",
              "2     100690  ...             631.0\n",
              "3     100706  ...            7376.0\n",
              "4     100724  ...            6075.0\n",
              "\n",
              "[5 rows x 21 columns]"
            ]
          },
          "metadata": {
            "tags": []
          },
          "execution_count": 37
        }
      ]
    },
    {
      "cell_type": "code",
      "metadata": {
        "id": "VfImfyKVZ6xz",
        "colab_type": "code",
        "outputId": "1e4b69b9-b21e-4f77-e8b1-3ed6c6c2774f",
        "colab": {
          "base_uri": "https://localhost:8080/",
          "height": 479
        }
      },
      "source": [
        "floatcol = []\n",
        "intdict = {}\n",
        "\n",
        "for col in reduced.columns:\n",
        "  if (reduced[col].dtype == \"float64\"):\n",
        "    floatcol.append(col)\n",
        "\n",
        "for col in floatcol:\n",
        "  arr = reduced[col].get_values()\n",
        "  int_arr = []\n",
        "  for i in range(len(arr)):\n",
        "    if np.isnan(arr[i]):\n",
        "      int_arr.append(0)\n",
        "    else:\n",
        "      int_arr.append(int(arr[i]))\n",
        "  intdict[col] = int_arr\n",
        "  \n",
        "reduced.drop(floatcol, axis = 1)\n",
        "for col in floatcol:\n",
        "  reduced[col] = intdict[col]\n",
        "  \n",
        "reduced.info()"
      ],
      "execution_count": 0,
      "outputs": [
        {
          "output_type": "stream",
          "text": [
            "<class 'pandas.core.frame.DataFrame'>\n",
            "RangeIndex: 1492 entries, 0 to 1491\n",
            "Data columns (total 21 columns):\n",
            "ID number                                                                                 1492 non-null int64\n",
            "Name                                                                                      1492 non-null object\n",
            "Religious affiliation                                                                     1492 non-null int64\n",
            "Tuition and fees, 2010-11                                                                 1492 non-null int64\n",
            "State abbreviation                                                                        1492 non-null object\n",
            "Control of institution                                                                    1492 non-null object\n",
            "Historically Black College or University                                                  1492 non-null object\n",
            "Degree of urbanization (Urban-centric locale)                                             1492 non-null object\n",
            "Percent of undergraduate enrollment that are American Indian or Alaska Native             1492 non-null int64\n",
            "Percent of undergraduate enrollment that are Asian                                        1492 non-null int64\n",
            "Percent of undergraduate enrollment that are Black or African American                    1492 non-null int64\n",
            "Percent of undergraduate enrollment that are Hispanic/Latino                              1492 non-null int64\n",
            "Percent of undergraduate enrollment that are Native Hawaiian or Other Pacific Islander    1492 non-null int64\n",
            "Percent of undergraduate enrollment that are White                                        1492 non-null int64\n",
            "Percent of undergraduate enrollment that are two or more races                            1492 non-null int64\n",
            "Percent of undergraduate enrollment that are Race/ethnicity unknown                       1492 non-null int64\n",
            "Percent of undergraduate enrollment that are Nonresident Alien                            1492 non-null int64\n",
            "Percent of undergraduate enrollment that are women                                        1492 non-null int64\n",
            "Graduation rate - Bachelor degree within 4 years, total                                   1492 non-null int64\n",
            "Percent of freshmen receiving any financial aid                                           1492 non-null int64\n",
            "Total  enrollment                                                                         1492 non-null int64\n",
            "dtypes: int64(16), object(5)\n",
            "memory usage: 244.9+ KB\n"
          ],
          "name": "stdout"
        }
      ]
    },
    {
      "cell_type": "code",
      "metadata": {
        "id": "gpW_YyunPxCJ",
        "colab_type": "code",
        "colab": {}
      },
      "source": [
        "text_col = [\"Degree of urbanization (Urban-centric locale)\",\n",
        "            \"State abbreviation\",\n",
        "            \"Control of institution\",\n",
        "            \"Historically Black College or University\"\n",
        "           ]\n",
        "\n",
        "le_dict = {}\n",
        "\n",
        "for col in text_col:\n",
        "  le_dict[col] = pre.LabelEncoder()"
      ],
      "execution_count": 0,
      "outputs": []
    },
    {
      "cell_type": "code",
      "metadata": {
        "id": "X1xTuropMNmT",
        "colab_type": "code",
        "colab": {}
      },
      "source": [
        "reduced_religous = reduced\n",
        "religous_col = []\n",
        "for x in reduced[\"Religious affiliation\"]:\n",
        "  if x == \"Not applicable\":\n",
        "    religous_col.append(0)\n",
        "  else:\n",
        "    religous_col.append(1)\n",
        "    \n",
        "reduced_religous[\"Religious affiliation\"] = religous_col"
      ],
      "execution_count": 0,
      "outputs": []
    },
    {
      "cell_type": "code",
      "metadata": {
        "id": "imVKeYUwYIp6",
        "colab_type": "code",
        "colab": {}
      },
      "source": [
        "test_data = reduced.sample(frac = 0.2, random_state = 123)\n",
        "\n",
        "training_data = reduced.drop(test_data.index)"
      ],
      "execution_count": 0,
      "outputs": []
    },
    {
      "cell_type": "code",
      "metadata": {
        "id": "w1xyrgkhY1wa",
        "colab_type": "code",
        "outputId": "bb50efaa-57b5-4d38-b708-fa0dd387bdd1",
        "colab": {
          "base_uri": "https://localhost:8080/",
          "height": 360
        }
      },
      "source": [
        "X = training_data.drop([\"ID number\", \"Name\", \"Percent of freshmen receiving any financial aid\"], axis = 1)\n",
        "X.head()"
      ],
      "execution_count": 0,
      "outputs": [
        {
          "output_type": "execute_result",
          "data": {
            "text/html": [
              "<div>\n",
              "<style scoped>\n",
              "    .dataframe tbody tr th:only-of-type {\n",
              "        vertical-align: middle;\n",
              "    }\n",
              "\n",
              "    .dataframe tbody tr th {\n",
              "        vertical-align: top;\n",
              "    }\n",
              "\n",
              "    .dataframe thead th {\n",
              "        text-align: right;\n",
              "    }\n",
              "</style>\n",
              "<table border=\"1\" class=\"dataframe\">\n",
              "  <thead>\n",
              "    <tr style=\"text-align: right;\">\n",
              "      <th></th>\n",
              "      <th>Religious affiliation</th>\n",
              "      <th>Tuition and fees, 2010-11</th>\n",
              "      <th>State abbreviation</th>\n",
              "      <th>Control of institution</th>\n",
              "      <th>Historically Black College or University</th>\n",
              "      <th>Degree of urbanization (Urban-centric locale)</th>\n",
              "      <th>Percent of undergraduate enrollment that are American Indian or Alaska Native</th>\n",
              "      <th>Percent of undergraduate enrollment that are Asian</th>\n",
              "      <th>Percent of undergraduate enrollment that are Black or African American</th>\n",
              "      <th>Percent of undergraduate enrollment that are Hispanic/Latino</th>\n",
              "      <th>Percent of undergraduate enrollment that are Native Hawaiian or Other Pacific Islander</th>\n",
              "      <th>Percent of undergraduate enrollment that are White</th>\n",
              "      <th>Percent of undergraduate enrollment that are two or more races</th>\n",
              "      <th>Percent of undergraduate enrollment that are Race/ethnicity unknown</th>\n",
              "      <th>Percent of undergraduate enrollment that are Nonresident Alien</th>\n",
              "      <th>Percent of undergraduate enrollment that are women</th>\n",
              "      <th>Graduation rate - Bachelor degree within 4 years, total</th>\n",
              "      <th>Total  enrollment</th>\n",
              "    </tr>\n",
              "  </thead>\n",
              "  <tbody>\n",
              "    <tr>\n",
              "      <th>0</th>\n",
              "      <td>1</td>\n",
              "      <td>5800</td>\n",
              "      <td>Alabama</td>\n",
              "      <td>Public</td>\n",
              "      <td>Yes</td>\n",
              "      <td>5</td>\n",
              "      <td>0</td>\n",
              "      <td>0</td>\n",
              "      <td>95</td>\n",
              "      <td>1</td>\n",
              "      <td>0</td>\n",
              "      <td>3</td>\n",
              "      <td>0</td>\n",
              "      <td>1</td>\n",
              "      <td>0</td>\n",
              "      <td>51</td>\n",
              "      <td>10</td>\n",
              "      <td>5020</td>\n",
              "    </tr>\n",
              "    <tr>\n",
              "      <th>1</th>\n",
              "      <td>1</td>\n",
              "      <td>5806</td>\n",
              "      <td>Alabama</td>\n",
              "      <td>Public</td>\n",
              "      <td>No</td>\n",
              "      <td>5</td>\n",
              "      <td>0</td>\n",
              "      <td>5</td>\n",
              "      <td>26</td>\n",
              "      <td>3</td>\n",
              "      <td>0</td>\n",
              "      <td>60</td>\n",
              "      <td>3</td>\n",
              "      <td>1</td>\n",
              "      <td>2</td>\n",
              "      <td>58</td>\n",
              "      <td>29</td>\n",
              "      <td>18568</td>\n",
              "    </tr>\n",
              "    <tr>\n",
              "      <th>2</th>\n",
              "      <td>1</td>\n",
              "      <td>8360</td>\n",
              "      <td>Alabama</td>\n",
              "      <td>Private not-for-profit</td>\n",
              "      <td>No</td>\n",
              "      <td>5</td>\n",
              "      <td>0</td>\n",
              "      <td>0</td>\n",
              "      <td>42</td>\n",
              "      <td>1</td>\n",
              "      <td>0</td>\n",
              "      <td>29</td>\n",
              "      <td>0</td>\n",
              "      <td>27</td>\n",
              "      <td>0</td>\n",
              "      <td>61</td>\n",
              "      <td>0</td>\n",
              "      <td>631</td>\n",
              "    </tr>\n",
              "    <tr>\n",
              "      <th>3</th>\n",
              "      <td>1</td>\n",
              "      <td>7492</td>\n",
              "      <td>Alabama</td>\n",
              "      <td>Public</td>\n",
              "      <td>No</td>\n",
              "      <td>5</td>\n",
              "      <td>1</td>\n",
              "      <td>4</td>\n",
              "      <td>13</td>\n",
              "      <td>3</td>\n",
              "      <td>0</td>\n",
              "      <td>70</td>\n",
              "      <td>2</td>\n",
              "      <td>3</td>\n",
              "      <td>4</td>\n",
              "      <td>44</td>\n",
              "      <td>16</td>\n",
              "      <td>7376</td>\n",
              "    </tr>\n",
              "    <tr>\n",
              "      <th>4</th>\n",
              "      <td>1</td>\n",
              "      <td>7164</td>\n",
              "      <td>Alabama</td>\n",
              "      <td>Public</td>\n",
              "      <td>Yes</td>\n",
              "      <td>5</td>\n",
              "      <td>0</td>\n",
              "      <td>0</td>\n",
              "      <td>93</td>\n",
              "      <td>1</td>\n",
              "      <td>0</td>\n",
              "      <td>2</td>\n",
              "      <td>1</td>\n",
              "      <td>1</td>\n",
              "      <td>2</td>\n",
              "      <td>59</td>\n",
              "      <td>9</td>\n",
              "      <td>6075</td>\n",
              "    </tr>\n",
              "  </tbody>\n",
              "</table>\n",
              "</div>"
            ],
            "text/plain": [
              "   Religious affiliation  ...  Total  enrollment\n",
              "0                      1  ...               5020\n",
              "1                      1  ...              18568\n",
              "2                      1  ...                631\n",
              "3                      1  ...               7376\n",
              "4                      1  ...               6075\n",
              "\n",
              "[5 rows x 18 columns]"
            ]
          },
          "metadata": {
            "tags": []
          },
          "execution_count": 42
        }
      ]
    },
    {
      "cell_type": "code",
      "metadata": {
        "id": "eN65bINRh1zN",
        "colab_type": "code",
        "colab": {}
      },
      "source": [
        ""
      ],
      "execution_count": 0,
      "outputs": []
    },
    {
      "cell_type": "code",
      "metadata": {
        "id": "bICS5cJDcIJ6",
        "colab_type": "code",
        "outputId": "cf2f67d9-53b3-489b-c507-d7b28a91312e",
        "colab": {
          "base_uri": "https://localhost:8080/",
          "height": 119
        }
      },
      "source": [
        "y = training_data[\"Percent of freshmen receiving any financial aid\"]\n",
        "y.head()"
      ],
      "execution_count": 0,
      "outputs": [
        {
          "output_type": "execute_result",
          "data": {
            "text/plain": [
              "0     97\n",
              "1     90\n",
              "2    100\n",
              "3     87\n",
              "4     93\n",
              "Name: Percent of freshmen receiving any financial aid, dtype: int64"
            ]
          },
          "metadata": {
            "tags": []
          },
          "execution_count": 43
        }
      ]
    },
    {
      "cell_type": "code",
      "metadata": {
        "id": "aWiM65SFcbee",
        "colab_type": "code",
        "outputId": "8bd02d4d-d7b7-4e04-c369-19495a8440e6",
        "colab": {
          "base_uri": "https://localhost:8080/",
          "height": 343
        }
      },
      "source": [
        "for col in text_col:\n",
        "  X[col] = le_dict[col].fit_transform(X[col])\n",
        "  \n",
        "X.head()"
      ],
      "execution_count": 0,
      "outputs": [
        {
          "output_type": "execute_result",
          "data": {
            "text/html": [
              "<div>\n",
              "<style scoped>\n",
              "    .dataframe tbody tr th:only-of-type {\n",
              "        vertical-align: middle;\n",
              "    }\n",
              "\n",
              "    .dataframe tbody tr th {\n",
              "        vertical-align: top;\n",
              "    }\n",
              "\n",
              "    .dataframe thead th {\n",
              "        text-align: right;\n",
              "    }\n",
              "</style>\n",
              "<table border=\"1\" class=\"dataframe\">\n",
              "  <thead>\n",
              "    <tr style=\"text-align: right;\">\n",
              "      <th></th>\n",
              "      <th>Religious affiliation</th>\n",
              "      <th>Tuition and fees, 2010-11</th>\n",
              "      <th>State abbreviation</th>\n",
              "      <th>Control of institution</th>\n",
              "      <th>Historically Black College or University</th>\n",
              "      <th>Degree of urbanization (Urban-centric locale)</th>\n",
              "      <th>Percent of undergraduate enrollment that are American Indian or Alaska Native</th>\n",
              "      <th>Percent of undergraduate enrollment that are Asian</th>\n",
              "      <th>Percent of undergraduate enrollment that are Black or African American</th>\n",
              "      <th>Percent of undergraduate enrollment that are Hispanic/Latino</th>\n",
              "      <th>Percent of undergraduate enrollment that are Native Hawaiian or Other Pacific Islander</th>\n",
              "      <th>Percent of undergraduate enrollment that are White</th>\n",
              "      <th>Percent of undergraduate enrollment that are two or more races</th>\n",
              "      <th>Percent of undergraduate enrollment that are Race/ethnicity unknown</th>\n",
              "      <th>Percent of undergraduate enrollment that are Nonresident Alien</th>\n",
              "      <th>Percent of undergraduate enrollment that are women</th>\n",
              "      <th>Graduation rate - Bachelor degree within 4 years, total</th>\n",
              "      <th>Total  enrollment</th>\n",
              "    </tr>\n",
              "  </thead>\n",
              "  <tbody>\n",
              "    <tr>\n",
              "      <th>0</th>\n",
              "      <td>1</td>\n",
              "      <td>5800</td>\n",
              "      <td>0</td>\n",
              "      <td>1</td>\n",
              "      <td>1</td>\n",
              "      <td>5</td>\n",
              "      <td>0</td>\n",
              "      <td>0</td>\n",
              "      <td>95</td>\n",
              "      <td>1</td>\n",
              "      <td>0</td>\n",
              "      <td>3</td>\n",
              "      <td>0</td>\n",
              "      <td>1</td>\n",
              "      <td>0</td>\n",
              "      <td>51</td>\n",
              "      <td>10</td>\n",
              "      <td>5020</td>\n",
              "    </tr>\n",
              "    <tr>\n",
              "      <th>1</th>\n",
              "      <td>1</td>\n",
              "      <td>5806</td>\n",
              "      <td>0</td>\n",
              "      <td>1</td>\n",
              "      <td>0</td>\n",
              "      <td>5</td>\n",
              "      <td>0</td>\n",
              "      <td>5</td>\n",
              "      <td>26</td>\n",
              "      <td>3</td>\n",
              "      <td>0</td>\n",
              "      <td>60</td>\n",
              "      <td>3</td>\n",
              "      <td>1</td>\n",
              "      <td>2</td>\n",
              "      <td>58</td>\n",
              "      <td>29</td>\n",
              "      <td>18568</td>\n",
              "    </tr>\n",
              "    <tr>\n",
              "      <th>2</th>\n",
              "      <td>1</td>\n",
              "      <td>8360</td>\n",
              "      <td>0</td>\n",
              "      <td>0</td>\n",
              "      <td>0</td>\n",
              "      <td>5</td>\n",
              "      <td>0</td>\n",
              "      <td>0</td>\n",
              "      <td>42</td>\n",
              "      <td>1</td>\n",
              "      <td>0</td>\n",
              "      <td>29</td>\n",
              "      <td>0</td>\n",
              "      <td>27</td>\n",
              "      <td>0</td>\n",
              "      <td>61</td>\n",
              "      <td>0</td>\n",
              "      <td>631</td>\n",
              "    </tr>\n",
              "    <tr>\n",
              "      <th>3</th>\n",
              "      <td>1</td>\n",
              "      <td>7492</td>\n",
              "      <td>0</td>\n",
              "      <td>1</td>\n",
              "      <td>0</td>\n",
              "      <td>5</td>\n",
              "      <td>1</td>\n",
              "      <td>4</td>\n",
              "      <td>13</td>\n",
              "      <td>3</td>\n",
              "      <td>0</td>\n",
              "      <td>70</td>\n",
              "      <td>2</td>\n",
              "      <td>3</td>\n",
              "      <td>4</td>\n",
              "      <td>44</td>\n",
              "      <td>16</td>\n",
              "      <td>7376</td>\n",
              "    </tr>\n",
              "    <tr>\n",
              "      <th>4</th>\n",
              "      <td>1</td>\n",
              "      <td>7164</td>\n",
              "      <td>0</td>\n",
              "      <td>1</td>\n",
              "      <td>1</td>\n",
              "      <td>5</td>\n",
              "      <td>0</td>\n",
              "      <td>0</td>\n",
              "      <td>93</td>\n",
              "      <td>1</td>\n",
              "      <td>0</td>\n",
              "      <td>2</td>\n",
              "      <td>1</td>\n",
              "      <td>1</td>\n",
              "      <td>2</td>\n",
              "      <td>59</td>\n",
              "      <td>9</td>\n",
              "      <td>6075</td>\n",
              "    </tr>\n",
              "  </tbody>\n",
              "</table>\n",
              "</div>"
            ],
            "text/plain": [
              "   Religious affiliation  ...  Total  enrollment\n",
              "0                      1  ...               5020\n",
              "1                      1  ...              18568\n",
              "2                      1  ...                631\n",
              "3                      1  ...               7376\n",
              "4                      1  ...               6075\n",
              "\n",
              "[5 rows x 18 columns]"
            ]
          },
          "metadata": {
            "tags": []
          },
          "execution_count": 44
        }
      ]
    },
    {
      "cell_type": "code",
      "metadata": {
        "id": "EXIl27V8ejbJ",
        "colab_type": "code",
        "outputId": "9667191b-e759-4098-b1d5-3c7c7c897c83",
        "colab": {
          "base_uri": "https://localhost:8080/",
          "height": 34
        }
      },
      "source": [
        "knr = LinearRegression()\n",
        "\n",
        "knr.fit(X, y)"
      ],
      "execution_count": 0,
      "outputs": [
        {
          "output_type": "execute_result",
          "data": {
            "text/plain": [
              "LinearRegression(copy_X=True, fit_intercept=True, n_jobs=None, normalize=False)"
            ]
          },
          "metadata": {
            "tags": []
          },
          "execution_count": 45
        }
      ]
    },
    {
      "cell_type": "code",
      "metadata": {
        "id": "v-Mk8B2bgJQT",
        "colab_type": "code",
        "colab": {}
      },
      "source": [
        "aid_est = knr.predict(X)"
      ],
      "execution_count": 0,
      "outputs": []
    },
    {
      "cell_type": "code",
      "metadata": {
        "id": "BDqT3wGTgYXI",
        "colab_type": "code",
        "outputId": "4f456ac7-891c-4b5b-9940-172ce1b1c09f",
        "colab": {
          "base_uri": "https://localhost:8080/",
          "height": 255
        }
      },
      "source": [
        "training_with_est = training_data\n",
        "training_with_est[\"Estimated percent of freshmen recieving aid\"] = aid_est\n",
        "training_with_est[\n",
        "    [\"Name\",\n",
        "     \"Percent of freshmen receiving any financial aid\",\n",
        "     \"Estimated percent of freshmen recieving aid\"\n",
        "    ]\n",
        "].head()"
      ],
      "execution_count": 0,
      "outputs": [
        {
          "output_type": "execute_result",
          "data": {
            "text/html": [
              "<div>\n",
              "<style scoped>\n",
              "    .dataframe tbody tr th:only-of-type {\n",
              "        vertical-align: middle;\n",
              "    }\n",
              "\n",
              "    .dataframe tbody tr th {\n",
              "        vertical-align: top;\n",
              "    }\n",
              "\n",
              "    .dataframe thead th {\n",
              "        text-align: right;\n",
              "    }\n",
              "</style>\n",
              "<table border=\"1\" class=\"dataframe\">\n",
              "  <thead>\n",
              "    <tr style=\"text-align: right;\">\n",
              "      <th></th>\n",
              "      <th>Name</th>\n",
              "      <th>Percent of freshmen receiving any financial aid</th>\n",
              "      <th>Estimated percent of freshmen recieving aid</th>\n",
              "    </tr>\n",
              "  </thead>\n",
              "  <tbody>\n",
              "    <tr>\n",
              "      <th>0</th>\n",
              "      <td>Alabama A &amp; M University</td>\n",
              "      <td>97</td>\n",
              "      <td>92.485040</td>\n",
              "    </tr>\n",
              "    <tr>\n",
              "      <th>1</th>\n",
              "      <td>University of Alabama at Birmingham</td>\n",
              "      <td>90</td>\n",
              "      <td>85.024433</td>\n",
              "    </tr>\n",
              "    <tr>\n",
              "      <th>2</th>\n",
              "      <td>Amridge University</td>\n",
              "      <td>100</td>\n",
              "      <td>100.643445</td>\n",
              "    </tr>\n",
              "    <tr>\n",
              "      <th>3</th>\n",
              "      <td>University of Alabama in Huntsville</td>\n",
              "      <td>87</td>\n",
              "      <td>88.737648</td>\n",
              "    </tr>\n",
              "    <tr>\n",
              "      <th>4</th>\n",
              "      <td>Alabama State University</td>\n",
              "      <td>93</td>\n",
              "      <td>91.583734</td>\n",
              "    </tr>\n",
              "  </tbody>\n",
              "</table>\n",
              "</div>"
            ],
            "text/plain": [
              "                                  Name  ...  Estimated percent of freshmen recieving aid\n",
              "0             Alabama A & M University  ...                                    92.485040\n",
              "1  University of Alabama at Birmingham  ...                                    85.024433\n",
              "2                   Amridge University  ...                                   100.643445\n",
              "3  University of Alabama in Huntsville  ...                                    88.737648\n",
              "4             Alabama State University  ...                                    91.583734\n",
              "\n",
              "[5 rows x 3 columns]"
            ]
          },
          "metadata": {
            "tags": []
          },
          "execution_count": 47
        }
      ]
    },
    {
      "cell_type": "code",
      "metadata": {
        "id": "hJAYxgSERmcI",
        "colab_type": "code",
        "outputId": "63813d1f-5edf-4fe4-d94a-af0d4e2e062c",
        "colab": {
          "base_uri": "https://localhost:8080/",
          "height": 286
        }
      },
      "source": [
        "cov_m = np.cov(y, aid_est)\n",
        "m = cov_m[0][1] / cov_m[0][0]\n",
        "b = np.average(aid_est) - m*np.average(y)\n",
        "line_vals = (m*np.array(y))+b\n",
        "f, ax = plt.subplots(1)\n",
        "ax.plot(y, aid_est, \"ro\")\n",
        "ax.set_ylim(bottom = 15)\n",
        "ax.set_xlim(left = 15)\n",
        "plt.plot(y, line_vals)"
      ],
      "execution_count": 0,
      "outputs": [
        {
          "output_type": "execute_result",
          "data": {
            "text/plain": [
              "[<matplotlib.lines.Line2D at 0x7fc13ec165f8>]"
            ]
          },
          "metadata": {
            "tags": []
          },
          "execution_count": 48
        },
        {
          "output_type": "display_data",
          "data": {
            "image/png": "[encoded data removed]",
            "text/plain": [
              "<Figure size 432x288 with 1 Axes>"
            ]
          },
          "metadata": {
            "tags": []
          }
        }
      ]
    },
    {
      "cell_type": "code",
      "metadata": {
        "id": "Y66jFxjDhfbS",
        "colab_type": "code",
        "outputId": "4f695c55-a8a6-4e84-c7e2-c48043246abd",
        "colab": {
          "base_uri": "https://localhost:8080/",
          "height": 34
        }
      },
      "source": [
        "print(mean_squared_error(y, aid_est))"
      ],
      "execution_count": 0,
      "outputs": [
        {
          "output_type": "stream",
          "text": [
            "88.06260288554488\n"
          ],
          "name": "stdout"
        }
      ]
    },
    {
      "cell_type": "code",
      "metadata": {
        "id": "FPpxCJeb6bwu",
        "colab_type": "code",
        "outputId": "751b9586-2006-432f-fa72-981a1ab423c9",
        "colab": {
          "base_uri": "https://localhost:8080/",
          "height": 34
        }
      },
      "source": [
        "print(np.corrcoef(y, aid_est)[0][1])"
      ],
      "execution_count": 0,
      "outputs": [
        {
          "output_type": "stream",
          "text": [
            "0.588933470223121\n"
          ],
          "name": "stdout"
        }
      ]
    },
    {
      "cell_type": "code",
      "metadata": {
        "id": "FuJTy5YhXoIQ",
        "colab_type": "code",
        "outputId": "eb6a7091-f75c-47f3-bf4c-1113c4559624",
        "colab": {
          "base_uri": "https://localhost:8080/",
          "height": 394
        }
      },
      "source": [
        "X_test = test_data.drop([\"ID number\", \"Name\", \"Percent of freshmen receiving any financial aid\"], axis = 1)\n",
        "X_test.head()"
      ],
      "execution_count": 0,
      "outputs": [
        {
          "output_type": "execute_result",
          "data": {
            "text/html": [
              "<div>\n",
              "<style scoped>\n",
              "    .dataframe tbody tr th:only-of-type {\n",
              "        vertical-align: middle;\n",
              "    }\n",
              "\n",
              "    .dataframe tbody tr th {\n",
              "        vertical-align: top;\n",
              "    }\n",
              "\n",
              "    .dataframe thead th {\n",
              "        text-align: right;\n",
              "    }\n",
              "</style>\n",
              "<table border=\"1\" class=\"dataframe\">\n",
              "  <thead>\n",
              "    <tr style=\"text-align: right;\">\n",
              "      <th></th>\n",
              "      <th>Religious affiliation</th>\n",
              "      <th>Tuition and fees, 2010-11</th>\n",
              "      <th>State abbreviation</th>\n",
              "      <th>Control of institution</th>\n",
              "      <th>Historically Black College or University</th>\n",
              "      <th>Degree of urbanization (Urban-centric locale)</th>\n",
              "      <th>Percent of undergraduate enrollment that are American Indian or Alaska Native</th>\n",
              "      <th>Percent of undergraduate enrollment that are Asian</th>\n",
              "      <th>Percent of undergraduate enrollment that are Black or African American</th>\n",
              "      <th>Percent of undergraduate enrollment that are Hispanic/Latino</th>\n",
              "      <th>Percent of undergraduate enrollment that are Native Hawaiian or Other Pacific Islander</th>\n",
              "      <th>Percent of undergraduate enrollment that are White</th>\n",
              "      <th>Percent of undergraduate enrollment that are two or more races</th>\n",
              "      <th>Percent of undergraduate enrollment that are Race/ethnicity unknown</th>\n",
              "      <th>Percent of undergraduate enrollment that are Nonresident Alien</th>\n",
              "      <th>Percent of undergraduate enrollment that are women</th>\n",
              "      <th>Graduation rate - Bachelor degree within 4 years, total</th>\n",
              "      <th>Total  enrollment</th>\n",
              "    </tr>\n",
              "  </thead>\n",
              "  <tbody>\n",
              "    <tr>\n",
              "      <th>1070</th>\n",
              "      <td>1</td>\n",
              "      <td>25610</td>\n",
              "      <td>Pennsylvania</td>\n",
              "      <td>Private not-for-profit</td>\n",
              "      <td>No</td>\n",
              "      <td>1</td>\n",
              "      <td>0</td>\n",
              "      <td>5</td>\n",
              "      <td>24</td>\n",
              "      <td>4</td>\n",
              "      <td>0</td>\n",
              "      <td>61</td>\n",
              "      <td>0</td>\n",
              "      <td>5</td>\n",
              "      <td>0</td>\n",
              "      <td>75</td>\n",
              "      <td>50</td>\n",
              "      <td>2371</td>\n",
              "    </tr>\n",
              "    <tr>\n",
              "      <th>486</th>\n",
              "      <td>1</td>\n",
              "      <td>6904</td>\n",
              "      <td>Maryland</td>\n",
              "      <td>Public</td>\n",
              "      <td>No</td>\n",
              "      <td>1</td>\n",
              "      <td>0</td>\n",
              "      <td>1</td>\n",
              "      <td>27</td>\n",
              "      <td>4</td>\n",
              "      <td>0</td>\n",
              "      <td>60</td>\n",
              "      <td>4</td>\n",
              "      <td>1</td>\n",
              "      <td>2</td>\n",
              "      <td>49</td>\n",
              "      <td>22</td>\n",
              "      <td>5473</td>\n",
              "    </tr>\n",
              "    <tr>\n",
              "      <th>35</th>\n",
              "      <td>1</td>\n",
              "      <td>7672</td>\n",
              "      <td>Arizona</td>\n",
              "      <td>Public</td>\n",
              "      <td>No</td>\n",
              "      <td>4</td>\n",
              "      <td>3</td>\n",
              "      <td>2</td>\n",
              "      <td>3</td>\n",
              "      <td>19</td>\n",
              "      <td>0</td>\n",
              "      <td>63</td>\n",
              "      <td>5</td>\n",
              "      <td>1</td>\n",
              "      <td>4</td>\n",
              "      <td>58</td>\n",
              "      <td>30</td>\n",
              "      <td>26594</td>\n",
              "    </tr>\n",
              "    <tr>\n",
              "      <th>327</th>\n",
              "      <td>1</td>\n",
              "      <td>22590</td>\n",
              "      <td>Indiana</td>\n",
              "      <td>Private not-for-profit</td>\n",
              "      <td>No</td>\n",
              "      <td>4</td>\n",
              "      <td>0</td>\n",
              "      <td>1</td>\n",
              "      <td>12</td>\n",
              "      <td>6</td>\n",
              "      <td>0</td>\n",
              "      <td>78</td>\n",
              "      <td>2</td>\n",
              "      <td>0</td>\n",
              "      <td>1</td>\n",
              "      <td>66</td>\n",
              "      <td>47</td>\n",
              "      <td>1804</td>\n",
              "    </tr>\n",
              "    <tr>\n",
              "      <th>1457</th>\n",
              "      <td>1</td>\n",
              "      <td>7380</td>\n",
              "      <td>Michigan</td>\n",
              "      <td>Private not-for-profit</td>\n",
              "      <td>No</td>\n",
              "      <td>1</td>\n",
              "      <td>0</td>\n",
              "      <td>0</td>\n",
              "      <td>4</td>\n",
              "      <td>2</td>\n",
              "      <td>0</td>\n",
              "      <td>91</td>\n",
              "      <td>3</td>\n",
              "      <td>0</td>\n",
              "      <td>0</td>\n",
              "      <td>74</td>\n",
              "      <td>0</td>\n",
              "      <td>1039</td>\n",
              "    </tr>\n",
              "  </tbody>\n",
              "</table>\n",
              "</div>"
            ],
            "text/plain": [
              "      Religious affiliation  ...  Total  enrollment\n",
              "1070                      1  ...               2371\n",
              "486                       1  ...               5473\n",
              "35                        1  ...              26594\n",
              "327                       1  ...               1804\n",
              "1457                      1  ...               1039\n",
              "\n",
              "[5 rows x 18 columns]"
            ]
          },
          "metadata": {
            "tags": []
          },
          "execution_count": 51
        }
      ]
    },
    {
      "cell_type": "code",
      "metadata": {
        "id": "iwPK2QabX1AK",
        "colab_type": "code",
        "outputId": "01f456b5-c40e-4841-a8f3-a7e0fdafc3a9",
        "colab": {
          "base_uri": "https://localhost:8080/",
          "height": 119
        }
      },
      "source": [
        "y_test = test_data[\"Percent of freshmen receiving any financial aid\"]\n",
        "y_test.head()"
      ],
      "execution_count": 0,
      "outputs": [
        {
          "output_type": "execute_result",
          "data": {
            "text/plain": [
              "1070    100\n",
              "486      83\n",
              "35       83\n",
              "327     100\n",
              "1457     95\n",
              "Name: Percent of freshmen receiving any financial aid, dtype: int64"
            ]
          },
          "metadata": {
            "tags": []
          },
          "execution_count": 52
        }
      ]
    },
    {
      "cell_type": "code",
      "metadata": {
        "id": "SGrLKq9JYitU",
        "colab_type": "code",
        "outputId": "241736fe-e04a-4000-a150-c72bdc0a97f5",
        "colab": {
          "base_uri": "https://localhost:8080/",
          "height": 411
        }
      },
      "source": [
        "for col in text_col:\n",
        "  print(col)\n",
        "  X_test[col] = le_dict[col].transform(X_test[col])\n",
        "  \n",
        "X_test.head()"
      ],
      "execution_count": 0,
      "outputs": [
        {
          "output_type": "stream",
          "text": [
            "Degree of urbanization (Urban-centric locale)\n",
            "State abbreviation\n",
            "Control of institution\n",
            "Historically Black College or University\n"
          ],
          "name": "stdout"
        },
        {
          "output_type": "execute_result",
          "data": {
            "text/html": [
              "<div>\n",
              "<style scoped>\n",
              "    .dataframe tbody tr th:only-of-type {\n",
              "        vertical-align: middle;\n",
              "    }\n",
              "\n",
              "    .dataframe tbody tr th {\n",
              "        vertical-align: top;\n",
              "    }\n",
              "\n",
              "    .dataframe thead th {\n",
              "        text-align: right;\n",
              "    }\n",
              "</style>\n",
              "<table border=\"1\" class=\"dataframe\">\n",
              "  <thead>\n",
              "    <tr style=\"text-align: right;\">\n",
              "      <th></th>\n",
              "      <th>Religious affiliation</th>\n",
              "      <th>Tuition and fees, 2010-11</th>\n",
              "      <th>State abbreviation</th>\n",
              "      <th>Control of institution</th>\n",
              "      <th>Historically Black College or University</th>\n",
              "      <th>Degree of urbanization (Urban-centric locale)</th>\n",
              "      <th>Percent of undergraduate enrollment that are American Indian or Alaska Native</th>\n",
              "      <th>Percent of undergraduate enrollment that are Asian</th>\n",
              "      <th>Percent of undergraduate enrollment that are Black or African American</th>\n",
              "      <th>Percent of undergraduate enrollment that are Hispanic/Latino</th>\n",
              "      <th>Percent of undergraduate enrollment that are Native Hawaiian or Other Pacific Islander</th>\n",
              "      <th>Percent of undergraduate enrollment that are White</th>\n",
              "      <th>Percent of undergraduate enrollment that are two or more races</th>\n",
              "      <th>Percent of undergraduate enrollment that are Race/ethnicity unknown</th>\n",
              "      <th>Percent of undergraduate enrollment that are Nonresident Alien</th>\n",
              "      <th>Percent of undergraduate enrollment that are women</th>\n",
              "      <th>Graduation rate - Bachelor degree within 4 years, total</th>\n",
              "      <th>Total  enrollment</th>\n",
              "    </tr>\n",
              "  </thead>\n",
              "  <tbody>\n",
              "    <tr>\n",
              "      <th>1070</th>\n",
              "      <td>1</td>\n",
              "      <td>25610</td>\n",
              "      <td>38</td>\n",
              "      <td>0</td>\n",
              "      <td>0</td>\n",
              "      <td>1</td>\n",
              "      <td>0</td>\n",
              "      <td>5</td>\n",
              "      <td>24</td>\n",
              "      <td>4</td>\n",
              "      <td>0</td>\n",
              "      <td>61</td>\n",
              "      <td>0</td>\n",
              "      <td>5</td>\n",
              "      <td>0</td>\n",
              "      <td>75</td>\n",
              "      <td>50</td>\n",
              "      <td>2371</td>\n",
              "    </tr>\n",
              "    <tr>\n",
              "      <th>486</th>\n",
              "      <td>1</td>\n",
              "      <td>6904</td>\n",
              "      <td>20</td>\n",
              "      <td>1</td>\n",
              "      <td>0</td>\n",
              "      <td>1</td>\n",
              "      <td>0</td>\n",
              "      <td>1</td>\n",
              "      <td>27</td>\n",
              "      <td>4</td>\n",
              "      <td>0</td>\n",
              "      <td>60</td>\n",
              "      <td>4</td>\n",
              "      <td>1</td>\n",
              "      <td>2</td>\n",
              "      <td>49</td>\n",
              "      <td>22</td>\n",
              "      <td>5473</td>\n",
              "    </tr>\n",
              "    <tr>\n",
              "      <th>35</th>\n",
              "      <td>1</td>\n",
              "      <td>7672</td>\n",
              "      <td>2</td>\n",
              "      <td>1</td>\n",
              "      <td>0</td>\n",
              "      <td>4</td>\n",
              "      <td>3</td>\n",
              "      <td>2</td>\n",
              "      <td>3</td>\n",
              "      <td>19</td>\n",
              "      <td>0</td>\n",
              "      <td>63</td>\n",
              "      <td>5</td>\n",
              "      <td>1</td>\n",
              "      <td>4</td>\n",
              "      <td>58</td>\n",
              "      <td>30</td>\n",
              "      <td>26594</td>\n",
              "    </tr>\n",
              "    <tr>\n",
              "      <th>327</th>\n",
              "      <td>1</td>\n",
              "      <td>22590</td>\n",
              "      <td>14</td>\n",
              "      <td>0</td>\n",
              "      <td>0</td>\n",
              "      <td>4</td>\n",
              "      <td>0</td>\n",
              "      <td>1</td>\n",
              "      <td>12</td>\n",
              "      <td>6</td>\n",
              "      <td>0</td>\n",
              "      <td>78</td>\n",
              "      <td>2</td>\n",
              "      <td>0</td>\n",
              "      <td>1</td>\n",
              "      <td>66</td>\n",
              "      <td>47</td>\n",
              "      <td>1804</td>\n",
              "    </tr>\n",
              "    <tr>\n",
              "      <th>1457</th>\n",
              "      <td>1</td>\n",
              "      <td>7380</td>\n",
              "      <td>22</td>\n",
              "      <td>0</td>\n",
              "      <td>0</td>\n",
              "      <td>1</td>\n",
              "      <td>0</td>\n",
              "      <td>0</td>\n",
              "      <td>4</td>\n",
              "      <td>2</td>\n",
              "      <td>0</td>\n",
              "      <td>91</td>\n",
              "      <td>3</td>\n",
              "      <td>0</td>\n",
              "      <td>0</td>\n",
              "      <td>74</td>\n",
              "      <td>0</td>\n",
              "      <td>1039</td>\n",
              "    </tr>\n",
              "  </tbody>\n",
              "</table>\n",
              "</div>"
            ],
            "text/plain": [
              "      Religious affiliation  ...  Total  enrollment\n",
              "1070                      1  ...               2371\n",
              "486                       1  ...               5473\n",
              "35                        1  ...              26594\n",
              "327                       1  ...               1804\n",
              "1457                      1  ...               1039\n",
              "\n",
              "[5 rows x 18 columns]"
            ]
          },
          "metadata": {
            "tags": []
          },
          "execution_count": 53
        }
      ]
    },
    {
      "cell_type": "code",
      "metadata": {
        "id": "lW3QafNX4ObC",
        "colab_type": "code",
        "colab": {}
      },
      "source": [
        "aid_est_test = knr.predict(X_test)"
      ],
      "execution_count": 0,
      "outputs": []
    },
    {
      "cell_type": "code",
      "metadata": {
        "id": "y9DGQynX4UXR",
        "colab_type": "code",
        "outputId": "eb10782d-e14b-47a7-cb9b-7758c441c954",
        "colab": {
          "base_uri": "https://localhost:8080/",
          "height": 289
        }
      },
      "source": [
        "test_with_est = test_data\n",
        "test_with_est[\"Estimated percent of freshmen recieving aid\"] = aid_est_test\n",
        "test_with_est[\n",
        "    [\"Name\",\n",
        "     \"Percent of freshmen receiving any financial aid\",\n",
        "     \"Estimated percent of freshmen recieving aid\"\n",
        "    ]\n",
        "].head()"
      ],
      "execution_count": 0,
      "outputs": [
        {
          "output_type": "execute_result",
          "data": {
            "text/html": [
              "<div>\n",
              "<style scoped>\n",
              "    .dataframe tbody tr th:only-of-type {\n",
              "        vertical-align: middle;\n",
              "    }\n",
              "\n",
              "    .dataframe tbody tr th {\n",
              "        vertical-align: top;\n",
              "    }\n",
              "\n",
              "    .dataframe thead th {\n",
              "        text-align: right;\n",
              "    }\n",
              "</style>\n",
              "<table border=\"1\" class=\"dataframe\">\n",
              "  <thead>\n",
              "    <tr style=\"text-align: right;\">\n",
              "      <th></th>\n",
              "      <th>Name</th>\n",
              "      <th>Percent of freshmen receiving any financial aid</th>\n",
              "      <th>Estimated percent of freshmen recieving aid</th>\n",
              "    </tr>\n",
              "  </thead>\n",
              "  <tbody>\n",
              "    <tr>\n",
              "      <th>1070</th>\n",
              "      <td>Gwynedd Mercy University</td>\n",
              "      <td>100</td>\n",
              "      <td>95.992326</td>\n",
              "    </tr>\n",
              "    <tr>\n",
              "      <th>486</th>\n",
              "      <td>Frostburg State University</td>\n",
              "      <td>83</td>\n",
              "      <td>89.043123</td>\n",
              "    </tr>\n",
              "    <tr>\n",
              "      <th>35</th>\n",
              "      <td>Northern Arizona University</td>\n",
              "      <td>83</td>\n",
              "      <td>83.871610</td>\n",
              "    </tr>\n",
              "    <tr>\n",
              "      <th>327</th>\n",
              "      <td>Bethel College-Indiana</td>\n",
              "      <td>100</td>\n",
              "      <td>96.765560</td>\n",
              "    </tr>\n",
              "    <tr>\n",
              "      <th>1457</th>\n",
              "      <td>Baker College of Port Huron</td>\n",
              "      <td>95</td>\n",
              "      <td>104.099417</td>\n",
              "    </tr>\n",
              "  </tbody>\n",
              "</table>\n",
              "</div>"
            ],
            "text/plain": [
              "                             Name  ...  Estimated percent of freshmen recieving aid\n",
              "1070     Gwynedd Mercy University  ...                                    95.992326\n",
              "486    Frostburg State University  ...                                    89.043123\n",
              "35    Northern Arizona University  ...                                    83.871610\n",
              "327        Bethel College-Indiana  ...                                    96.765560\n",
              "1457  Baker College of Port Huron  ...                                   104.099417\n",
              "\n",
              "[5 rows x 3 columns]"
            ]
          },
          "metadata": {
            "tags": []
          },
          "execution_count": 55
        }
      ]
    },
    {
      "cell_type": "code",
      "metadata": {
        "id": "VWnaXLkc4ge2",
        "colab_type": "code",
        "outputId": "a69ddd96-bd93-4e81-9849-1fbd875594ef",
        "colab": {
          "base_uri": "https://localhost:8080/",
          "height": 286
        }
      },
      "source": [
        "y_t = test_with_est[\"Percent of freshmen receiving any financial aid\"]\n",
        "cov_m_t = np.cov(y_t, aid_est_test)\n",
        "m_t = cov_m_t[0][1] / cov_m_t[0][0]\n",
        "b_t = np.average(aid_est_test) - m_t*np.average(y)\n",
        "line_vals = (m_t*np.array(y_t))+b_t\n",
        "f, ax_t = plt.subplots(1)\n",
        "ax_t.plot(y_t, aid_est_test, \"ro\")\n",
        "ax_t.set_ylim(bottom = 30)\n",
        "ax_t.set_xlim(left = 30)\n",
        "plt.plot(y_t, line_vals)"
      ],
      "execution_count": 0,
      "outputs": [
        {
          "output_type": "execute_result",
          "data": {
            "text/plain": [
              "[<matplotlib.lines.Line2D at 0x7fc13eb819b0>]"
            ]
          },
          "metadata": {
            "tags": []
          },
          "execution_count": 56
        },
        {
          "output_type": "display_data",
          "data": {
            "image/png": "[encoded data removed]",
            "text/plain": [
              "<Figure size 432x288 with 1 Axes>"
            ]
          },
          "metadata": {
            "tags": []
          }
        }
      ]
    },
    {
      "cell_type": "code",
      "metadata": {
        "id": "caeyBRoG5VA0",
        "colab_type": "code",
        "outputId": "8eb6bb1e-88c4-450a-9788-0d98fe76e47a",
        "colab": {
          "base_uri": "https://localhost:8080/",
          "height": 34
        }
      },
      "source": [
        "print(mean_squared_error(y_t, aid_est_test))"
      ],
      "execution_count": 0,
      "outputs": [
        {
          "output_type": "stream",
          "text": [
            "110.71474396781576\n"
          ],
          "name": "stdout"
        }
      ]
    },
    {
      "cell_type": "code",
      "metadata": {
        "id": "B6wxNxCZ6BY1",
        "colab_type": "code",
        "outputId": "b9ca8d27-6898-42a6-c784-53b02a533caa",
        "colab": {
          "base_uri": "https://localhost:8080/",
          "height": 34
        }
      },
      "source": [
        "print(np.corrcoef(y_t, aid_est_test)[0][1])"
      ],
      "execution_count": 0,
      "outputs": [
        {
          "output_type": "stream",
          "text": [
            "0.6085629696823607\n"
          ],
          "name": "stdout"
        }
      ]
    }
  ]
}